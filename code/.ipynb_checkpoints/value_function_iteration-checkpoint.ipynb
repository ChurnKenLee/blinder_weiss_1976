{
 "cells": [
  {
   "cell_type": "code",
   "execution_count": 129,
   "metadata": {},
   "outputs": [],
   "source": [
    "import numpy as np\n",
    "from scipy.optimize import minimize"
   ]
  },
  {
   "cell_type": "code",
   "execution_count": 130,
   "metadata": {},
   "outputs": [],
   "source": [
    "# Define parameters\n",
    "rho = 0.01\n",
    "r = 0.05\n",
    "a = 1\n",
    "delta = 0.05\n",
    "alpha = 0.5\n",
    "gamma = 0.5\n",
    "sigma = 0.5\n",
    "params = (rho, r, a, delta, alpha, gamma, sigma)"
   ]
  },
  {
   "cell_type": "code",
   "execution_count": 131,
   "metadata": {},
   "outputs": [],
   "source": [
    "# Define g(x) and g'(x) (labor market equilibrium tradeoff) function\n",
    "def g(x):\n",
    "    k = 5/4\n",
    "    s = 1/2\n",
    "    d = 1/(k**0.5 - s)\n",
    "    y = k - (x/d + s)**2\n",
    "    \n",
    "    if y <= 0:\n",
    "        return 0\n",
    "    \n",
    "    return y"
   ]
  },
  {
   "cell_type": "code",
   "execution_count": 132,
   "metadata": {},
   "outputs": [],
   "source": [
    "# Define a function that returns utility given c, l, and x\n",
    "def utility(values):\n",
    "    c, l, x = values # Unpack values to evaluate at\n",
    "    return - np.log(c) - np.log(l)"
   ]
  },
  {
   "cell_type": "code",
   "execution_count": 133,
   "metadata": {},
   "outputs": [],
   "source": [
    "# Define constraint function\n",
    "def cons(values, states, params):\n",
    "    rho, r, a, delta, alpha, gamma, sigma = params # Unpack parameters\n",
    "    A0, K0, A1, K1 = states # Unpack chosen states\n",
    "    c, l, x = values # Unpack values to evaluate at\n",
    "    \n",
    "    err1 = (1+r)*A0 + g(x)*(1-l)*K0 - A1 - c\n",
    "    err2 = (1 + a*x*(1-l) - delta)*K0 - K1\n",
    "    err3 = l\n",
    "    err4 = x\n",
    "    \n",
    "    return np.array([err1, err2, err3, err4])"
   ]
  },
  {
   "cell_type": "code",
   "execution_count": 134,
   "metadata": {},
   "outputs": [],
   "source": [
    "A0 = 1\n",
    "A1 = 1\n",
    "K0 = 1\n",
    "K1 = 1\n",
    "states = (A0, K0, A1, K1)"
   ]
  },
  {
   "cell_type": "code",
   "execution_count": 135,
   "metadata": {},
   "outputs": [],
   "source": [
    "# Define constraints\n",
    "cons = {'type': 'ineq',\n",
    "        'fun': cons,\n",
    "        'args': (states, params),\n",
    "        'lb': np.array([0, 0, 0, 0]),\n",
    "        'ub': np.array([0, 0, 1, 1]),\n",
    "       }"
   ]
  },
  {
   "cell_type": "code",
   "execution_count": 136,
   "metadata": {},
   "outputs": [],
   "source": [
    "results = minimize(utility, [0.5, 0.5, 0.5], method = 'SLSQP', constraints = cons)"
   ]
  },
  {
   "cell_type": "code",
   "execution_count": 137,
   "metadata": {},
   "outputs": [
    {
     "data": {
      "text/plain": [
       "     fun: 1.729028299990237\n",
       "     jac: array([-2.34453747, -2.40353392,  0.        ])\n",
       " message: 'Optimization terminated successfully.'\n",
       "    nfev: 32\n",
       "     nit: 6\n",
       "    njev: 6\n",
       "  status: 0\n",
       " success: True\n",
       "       x: array([0.42652335, 0.41605403, 0.25687309])"
      ]
     },
     "execution_count": 137,
     "metadata": {},
     "output_type": "execute_result"
    }
   ],
   "source": [
    "results"
   ]
  },
  {
   "cell_type": "code",
   "execution_count": null,
   "metadata": {},
   "outputs": [],
   "source": []
  }
 ],
 "metadata": {
  "kernelspec": {
   "display_name": "Python 3",
   "language": "python",
   "name": "python3"
  },
  "language_info": {
   "codemirror_mode": {
    "name": "ipython",
    "version": 3
   },
   "file_extension": ".py",
   "mimetype": "text/x-python",
   "name": "python",
   "nbconvert_exporter": "python",
   "pygments_lexer": "ipython3",
   "version": "3.7.4"
  }
 },
 "nbformat": 4,
 "nbformat_minor": 2
}
