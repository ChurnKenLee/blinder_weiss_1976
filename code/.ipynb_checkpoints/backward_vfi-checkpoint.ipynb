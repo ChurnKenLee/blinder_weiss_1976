{
 "cells": [
  {
   "cell_type": "markdown",
   "metadata": {},
   "source": [
    "# Backward induction from terminal value function"
   ]
  },
  {
   "cell_type": "code",
   "execution_count": 277,
   "metadata": {},
   "outputs": [],
   "source": [
    "import numpy as np\n",
    "from scipy.optimize import minimize\n",
    "from scipy.optimize import fsolve\n",
    "from scipy.interpolate import RectBivariateSpline\n",
    "from numba import jit\n",
    "import copy"
   ]
  },
  {
   "cell_type": "code",
   "execution_count": 278,
   "metadata": {},
   "outputs": [],
   "source": [
    "# Define parameters\n",
    "beta = 0.9 # Discount rate\n",
    "r = 0.1 # Return on A\n",
    "a = 1 # Productivity in production of K\n",
    "delta = 0.05 # Depreciation rate of K\n",
    "alpha = 0.5 # Weight on leisure\n",
    "gamma = 5 # Weight on bequest\n",
    "sigma = 0.5 # Unused\n",
    "params = (beta, r, a, delta, alpha, gamma, sigma)\n",
    "\n",
    "# Grid parameters\n",
    "A_grid_min = 1\n",
    "A_grid_max = 10\n",
    "A_grid_size = 10\n",
    "K_grid_min = 1\n",
    "K_grid_max = 10\n",
    "K_grid_size = 10\n",
    "T = 10"
   ]
  },
  {
   "cell_type": "code",
   "execution_count": 279,
   "metadata": {},
   "outputs": [],
   "source": [
    "# Define g(x) and g'(x) (labor market equilibrium tradeoff) function\n",
    "@jit\n",
    "def g(x):\n",
    "    k = 5/4\n",
    "    s = 1/2\n",
    "    a = 1/(k**0.5 - s)\n",
    "    y = k - (x/a + s)**2\n",
    "    \n",
    "    return y\n",
    "\n",
    "@jit\n",
    "def g_prime(x):\n",
    "    k = 5/4\n",
    "    s = 1/2\n",
    "    a = 1/(k**0.5 - s)\n",
    "    y = (-2*(x/a + s))/a\n",
    "    \n",
    "    return y"
   ]
  },
  {
   "cell_type": "code",
   "execution_count": 280,
   "metadata": {},
   "outputs": [],
   "source": [
    "# Define terminal utility\n",
    "@jit\n",
    "def utility_T(values, state, params):\n",
    "    beta, r, a, delta, alpha, gamma, sigma = params # Unpack parameters\n",
    "    A0, K0 = state # Unpack chosen state\n",
    "    c, l = values # Unpack values to evaluate at\n",
    "    \n",
    "    # Put constraints into utility function\n",
    "    A1 = (1+r)*A0 + (1-l)*K0 - c\n",
    "    \n",
    "    # Evaluate utility\n",
    "    u = - np.log(c) - alpha*np.log(l) - gamma*np.log(A1)\n",
    "    return u"
   ]
  },
  {
   "cell_type": "code",
   "execution_count": 281,
   "metadata": {},
   "outputs": [],
   "source": [
    "# Set up state grids\n",
    "K_grid = np.linspace(K_grid_min, K_grid_max, K_grid_size)\n",
    "A_grid = np.linspace(A_grid_min, A_grid_max, A_grid_size)\n",
    "T_grid = np.linspace(0, T, T+1, dtype = int)\n",
    "\n",
    "# Value grid\n",
    "V_grid = np.ones((A_grid_size, K_grid_size, T))\n",
    "\n",
    "# Policy grid\n",
    "c_policy = np.ones((A_grid_size, K_grid_size, T))\n",
    "l_policy = np.ones((A_grid_size, K_grid_size, T))\n",
    "x_policy = np.ones((A_grid_size, K_grid_size, T))\n",
    "\n",
    "# Store interpolated value function in dict\n",
    "V_dict = {}"
   ]
  },
  {
   "cell_type": "code",
   "execution_count": 282,
   "metadata": {
    "scrolled": true
   },
   "outputs": [],
   "source": [
    "# Compute value function and policy at t = T\n",
    "for a_ind, A in np.ndenumerate(A_grid):\n",
    "    for k_ind, K in np.ndenumerate(K_grid):\n",
    "        \n",
    "        # Compute value function at terminal state\n",
    "        state = (A, K)\n",
    "        results = minimize(utility_T, [0.5, 0.5], bounds = ((0, None), (0, 1)), args = (state, params,), tol = 1e-16)\n",
    "        \n",
    "        # Store policy results and value function\n",
    "        V_grid[a_ind, k_ind, T-1] = -results.fun\n",
    "        c_policy[a_ind, k_ind, T-1] = results.x[0]\n",
    "        l_policy[a_ind, k_ind, T-1] = results.x[1]"
   ]
  },
  {
   "cell_type": "code",
   "execution_count": 283,
   "metadata": {},
   "outputs": [],
   "source": [
    "# Interpolate terminal value function and store in dict\n",
    "V_dict[T-1] = RectBivariateSpline(A_grid, K_grid, V_grid[:, :, T-1])"
   ]
  },
  {
   "cell_type": "code",
   "execution_count": 284,
   "metadata": {},
   "outputs": [],
   "source": [
    "# Wrap evaluation of interpolation in a function\n",
    "def value_function(state, V_T_interpolate):\n",
    "    A, K = state\n",
    "    return RectBivariateSpline.__call__(V_T_interpolate, A, K)[0][0]"
   ]
  },
  {
   "cell_type": "code",
   "execution_count": 285,
   "metadata": {},
   "outputs": [],
   "source": [
    "# Define objective function for t < T\n",
    "def objective(values, state, V_T_interpolate, params):\n",
    "    beta, r, a, delta, alpha, gamma, sigma = params # Unpack parameters\n",
    "    A0, K0 = state # Unpack current state\n",
    "    c, l, x = values # Unpack values to evaluate at\n",
    "    \n",
    "    # State evolution\n",
    "    A1 = (1+r)*A0 + g(x)*(1-l)*K0 - c\n",
    "    K1 = (1 + a*x*(1-l) - delta)*K0\n",
    "    \n",
    "    # No borrowing and strictly positive leisure and consumption\n",
    "    if A1 < 0 or c <= 0 or l <= 0:\n",
    "        return 1e9999\n",
    "    \n",
    "    # Value next period\n",
    "    V1 = value_function([A1, K1], V_T_interpolate)\n",
    "    \n",
    "    # Evaluate objective\n",
    "    u = - np.log(c) - alpha*np.log(l) - beta*V1\n",
    "    return u"
   ]
  },
  {
   "cell_type": "code",
   "execution_count": 286,
   "metadata": {},
   "outputs": [],
   "source": [
    "# Compute value function and policy at t\n",
    "for t in range(T-2, -1, -1):\n",
    "    for a_ind, A in np.ndenumerate(A_grid):\n",
    "        for k_ind, K in np.ndenumerate(K_grid):\n",
    "\n",
    "            state = (A, K)\n",
    "\n",
    "            # Use interpolated value function next period\n",
    "            V_interpolate = V_dict[t+1]\n",
    "\n",
    "            # Compute value function at t\n",
    "            results = minimize(objective, [0.5, 0.5, 0.5], bounds = ((0, None), (0, 1), (0, 1)), args = (state, V_interpolate, params,), tol = 1e-6)\n",
    "\n",
    "            # Store results\n",
    "            V_grid[a_ind, k_ind, t] = -results.fun\n",
    "            c_policy[a_ind, k_ind, t] = results.x[0]\n",
    "            l_policy[a_ind, k_ind, t] = results.x[1]\n",
    "            x_policy[a_ind, k_ind, t] = results.x[2]\n",
    "\n",
    "            # Interpolate value function at t and store in dict\n",
    "            V_dict[t] = RectBivariateSpline(A_grid, K_grid, V_grid[:, :, t])"
   ]
  },
  {
   "cell_type": "code",
   "execution_count": 296,
   "metadata": {},
   "outputs": [
    {
     "data": {
      "text/plain": [
       "array([10.26666971, 11.32309747, 13.01540106, 14.70764503, 16.40002927,\n",
       "       18.09233976,  1.46857622,  1.46866539,  1.46874496,  1.4688164 ])"
      ]
     },
     "execution_count": 296,
     "metadata": {},
     "output_type": "execute_result"
    }
   ],
   "source": [
    "c_policy[5,:,9]"
   ]
  },
  {
   "cell_type": "code",
   "execution_count": 288,
   "metadata": {},
   "outputs": [
    {
     "data": {
      "text/plain": [
       "array([1.        , 0.47179568, 0.2829431 , 0.21628963, 0.18222205,\n",
       "       0.16153841, 0.25128307, 0.25163059, 0.25194114, 0.25222029])"
      ]
     },
     "execution_count": 288,
     "metadata": {},
     "output_type": "execute_result"
    }
   ],
   "source": [
    "l_policy[5,:,9]"
   ]
  },
  {
   "cell_type": "code",
   "execution_count": 289,
   "metadata": {},
   "outputs": [
    {
     "data": {
      "text/plain": [
       "array([1., 1., 1., 1., 1., 1., 1., 1., 1., 1.])"
      ]
     },
     "execution_count": 289,
     "metadata": {},
     "output_type": "execute_result"
    }
   ],
   "source": [
    "x_policy[5,:,9]"
   ]
  },
  {
   "cell_type": "code",
   "execution_count": 290,
   "metadata": {},
   "outputs": [
    {
     "data": {
      "text/plain": [
       "array([22.02060397, 22.23264116, 22.81272745, 23.41184489, 23.9796134 ,\n",
       "       24.50860471, 23.20951951, 23.56919734, 23.90457399, 24.21873881])"
      ]
     },
     "execution_count": 290,
     "metadata": {},
     "output_type": "execute_result"
    }
   ],
   "source": [
    "V_grid[5,:,9]"
   ]
  },
  {
   "cell_type": "code",
   "execution_count": 291,
   "metadata": {},
   "outputs": [
    {
     "data": {
      "text/plain": [
       "array([  1.,  12.,  23.,  34.,  45.,  56.,  67.,  78.,  89., 100.])"
      ]
     },
     "execution_count": 291,
     "metadata": {},
     "output_type": "execute_result"
    }
   ],
   "source": [
    "K_grid"
   ]
  },
  {
   "cell_type": "code",
   "execution_count": 292,
   "metadata": {},
   "outputs": [
    {
     "data": {
      "text/plain": [
       "array([  1.,  12.,  23.,  34.,  45.,  56.,  67.,  78.,  89., 100.])"
      ]
     },
     "execution_count": 292,
     "metadata": {},
     "output_type": "execute_result"
    }
   ],
   "source": [
    "A_grid"
   ]
  },
  {
   "cell_type": "code",
   "execution_count": 293,
   "metadata": {},
   "outputs": [
    {
     "name": "stderr",
     "output_type": "stream",
     "text": [
      "C:\\Users\\churn\\Utilities\\Anaconda3\\lib\\site-packages\\numba\\ir_utils.py:1959: NumbaPendingDeprecationWarning: \u001b[1m\n",
      "Encountered the use of a type that is scheduled for deprecation: type 'reflected list' found for argument 'state' of function 'utility_T'.\n",
      "\n",
      "For more information visit http://numba.pydata.org/numba-doc/latest/reference/deprecation.html#deprecation-of-reflection-for-list-and-set-types\n",
      "\u001b[1m\n",
      "File \"<ipython-input-280-08e905ac708d>\", line 3:\u001b[0m\n",
      "\u001b[1m@jit\n",
      "\u001b[1mdef utility_T(values, state, params):\n",
      "\u001b[0m\u001b[1m^\u001b[0m\u001b[0m\n",
      "\u001b[0m\n",
      "  warnings.warn(NumbaPendingDeprecationWarning(msg, loc=loc))\n"
     ]
    }
   ],
   "source": [
    "results = minimize(utility_T, [0.5, 0.5], bounds = ((0, None), (0, 1)), args = ([56, 45], params,), tol = 1e-16)"
   ]
  },
  {
   "cell_type": "code",
   "execution_count": 294,
   "metadata": {},
   "outputs": [
    {
     "data": {
      "text/plain": [
       "      fun: -23.97961340339937\n",
       " hess_inv: <2x2 LbfgsInvHessProduct with dtype=float64>\n",
       "      jac: array([ 0.00000000e+00, -1.77635684e-06])\n",
       "  message: b'CONVERGENCE: REL_REDUCTION_OF_F_<=_FACTR*EPSMCH'\n",
       "     nfev: 66\n",
       "      nit: 15\n",
       "   status: 0\n",
       "  success: True\n",
       "        x: array([16.40002927,  0.18222205])"
      ]
     },
     "execution_count": 294,
     "metadata": {},
     "output_type": "execute_result"
    }
   ],
   "source": [
    "results"
   ]
  },
  {
   "cell_type": "code",
   "execution_count": null,
   "metadata": {},
   "outputs": [],
   "source": []
  }
 ],
 "metadata": {
  "kernelspec": {
   "display_name": "Python 3",
   "language": "python",
   "name": "python3"
  },
  "language_info": {
   "codemirror_mode": {
    "name": "ipython",
    "version": 3
   },
   "file_extension": ".py",
   "mimetype": "text/x-python",
   "name": "python",
   "nbconvert_exporter": "python",
   "pygments_lexer": "ipython3",
   "version": "3.7.4"
  }
 },
 "nbformat": 4,
 "nbformat_minor": 2
}
