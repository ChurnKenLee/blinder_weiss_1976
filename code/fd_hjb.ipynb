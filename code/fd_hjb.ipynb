{
 "cells": [
  {
   "cell_type": "code",
   "execution_count": 373,
   "metadata": {},
   "outputs": [],
   "source": [
    "import numpy as np\n",
    "import scipy.optimize as opt\n",
    "import copy\n",
    "import matplotlib.pyplot as plt"
   ]
  },
  {
   "cell_type": "code",
   "execution_count": 374,
   "metadata": {},
   "outputs": [],
   "source": [
    "# Parameters\n",
    "rho = 0.03\n",
    "r = 0.05\n",
    "a = 1\n",
    "delta = 0.01\n",
    "c_param = 0.3\n",
    "l_param = 0.3\n",
    "B_param = 0.3\n",
    "\n",
    "param = [rho, r, a, delta, c_param, l_param]\n",
    "\n",
    "T = 70"
   ]
  },
  {
   "cell_type": "code",
   "execution_count": 375,
   "metadata": {},
   "outputs": [],
   "source": [
    "# Define utility functions\n",
    "def u(c, c_param):\n",
    "    return (c^(1-c_param))/(1-c_param)\n",
    "\n",
    "def u_prime(c, c_param):\n",
    "    return c^(-c_param)\n",
    "\n",
    "def u_prime_inverse(x, c_param):\n",
    "    return x**(-1/c_param)\n",
    "\n",
    "def uh(h, l_param):\n",
    "    return ((1-h)^(1-l_param))/(1-l_param)\n",
    "\n",
    "def uh_prime(h, l_param):\n",
    "    return -(1-h)**(-l_param)\n",
    "\n",
    "def uh_prime_inverse(x, l_param):\n",
    "    return 1 - ((-x)**(-1/l_param))"
   ]
  },
  {
   "cell_type": "code",
   "execution_count": 376,
   "metadata": {},
   "outputs": [],
   "source": [
    "# Labor market functions\n",
    "def g(x):\n",
    "    return 1.25 - (x*(1.25**0.5 - 0.5) + 0.5)**2\n",
    "\n",
    "def g_prime_inverse(x):\n",
    "    return (x/(-2*(1.25**0.5 - 0.5)) - 0.5)/(1.25**0.5 - 0.5)"
   ]
  },
  {
   "cell_type": "markdown",
   "metadata": {},
   "source": [
    "Create grids"
   ]
  },
  {
   "cell_type": "code",
   "execution_count": 377,
   "metadata": {},
   "outputs": [],
   "source": [
    "# State grids\n",
    "na = 30 # number of asset grid points\n",
    "nk = 20 # number of human capital grid points\n",
    "\n",
    "amin = 0\n",
    "amax = 5\n",
    "\n",
    "kmin = 1\n",
    "kmax = 5\n",
    "\n",
    "a_vect = amin + np.linspace(0, 1, na)*(amax - amin) # Vector of A\n",
    "da = (amax - amin)/(na - 1) # delta in A\n",
    "a = np.repeat(a_vect[:, None], nk, axis = 1) # Grid of A\n",
    "\n",
    "k_vect = kmin + np.linspace(0, 1, nk)*(kmax - kmin) # Vector of A\n",
    "dk = (kmax - kmin)/(nk - 1) # delta in A\n",
    "k = np.repeat(k_vect[None, :], na, axis = 0) # Grid of K"
   ]
  },
  {
   "cell_type": "code",
   "execution_count": 378,
   "metadata": {},
   "outputs": [],
   "source": [
    "# Preallocate fwd/bwd derivatives\n",
    "dVaF = np.zeros((na, nk))\n",
    "dVaB = np.zeros((na, nk))\n",
    "dVkF = np.zeros((na, nk))\n",
    "dVkB = np.zeros((na, nk))"
   ]
  },
  {
   "cell_type": "code",
   "execution_count": 379,
   "metadata": {},
   "outputs": [],
   "source": [
    "# Time parameters\n",
    "T = 2\n",
    "dt = 0.5"
   ]
  },
  {
   "cell_type": "code",
   "execution_count": 380,
   "metadata": {},
   "outputs": [],
   "source": [
    "# Value function grid\n",
    "v = np.zeros((na, nk, T))"
   ]
  },
  {
   "cell_type": "code",
   "execution_count": 381,
   "metadata": {},
   "outputs": [],
   "source": [
    "# Terminal value\n",
    "small_number1 = 1e-8\n",
    "small_number2 = 1e-8\n",
    "aa = np.repeat(a[:, None], nk, axis = 1)\n",
    "v_terminal = small_number1*((small_number2 + a)**(1-B_param))/(1-B_param)"
   ]
  },
  {
   "cell_type": "code",
   "execution_count": 382,
   "metadata": {},
   "outputs": [],
   "source": [
    "V = copy.copy(v_terminal)"
   ]
  },
  {
   "cell_type": "markdown",
   "metadata": {},
   "source": [
    "Compute steady state values"
   ]
  },
  {
   "cell_type": "code",
   "execution_count": 401,
   "metadata": {},
   "outputs": [],
   "source": [
    "# Steady state requires solving FOC + (drift = 0) = 5 equations, with 5 variables (c, h, k, dVa, dVk)\n",
    "i = 0\n",
    "j = 0\n",
    "dVa0 = np.zeros((na, nk))\n",
    "dVk0 = np.zeros((na, nk))\n",
    "C0 = np.zeros((na, nk))\n",
    "H0 = np.zeros((na, nk))\n",
    "X0 = np.zeros((na, nk))"
   ]
  },
  {
   "cell_type": "code",
   "execution_count": 404,
   "metadata": {},
   "outputs": [],
   "source": [
    "def steady_state_err(guess, a, k, param):\n",
    "    rho, r, a, delta, c_param, l_param = param\n",
    "\n",
    "    mu_a = h*k*g(x) + r*a - c\n",
    "    mu_k = h*k*x - delta*k\n",
    "    focc = u_prime(c, c_param) - dVa\n",
    "    foch = uh_prime(h, l_param) + dVa*k*g(x) + dVk\n",
    "    focx = dVa*h*k*g_prime(x) + dVk*h*k\n",
    "\n",
    "    return mu_a, mu_k, focc, foch, focx"
   ]
  },
  {
   "cell_type": "markdown",
   "metadata": {},
   "source": [
    "Begin iterations"
   ]
  },
  {
   "cell_type": "code",
   "execution_count": 383,
   "metadata": {},
   "outputs": [],
   "source": [
    "v[:, :, T-1] = V"
   ]
  },
  {
   "cell_type": "code",
   "execution_count": 384,
   "metadata": {},
   "outputs": [],
   "source": [
    "# Construct forward difference for a and k\n",
    "dVaF[0:na-1, :] = (V[1:na, :] - V[0:na-1, :])/da\n",
    "dVaF[na-1, :] = dVaF[na-2, :]\n",
    "\n",
    "dVkF[:, 0:nk-1] = (V[:, 1:nk] - V[:, 0:nk-1])/dk\n",
    "dVkF[:, nk-1] = dVkF[:, nk-2]\n",
    "\n",
    "dVaB[1:na, :] = (V[1:na, :] - V[0:na-1, :])/da\n",
    "dVaB[0, :] = dVaB[1, :]\n",
    "\n",
    "dVkB[:, 1:nk] = (V[:, 1:nk] - V[:, 0:nk-1])/dk\n",
    "dVkB[:, 0] = dVkB[:, 1]"
   ]
  },
  {
   "cell_type": "code",
   "execution_count": 385,
   "metadata": {},
   "outputs": [],
   "source": [
    "# Verify value function is increasing in a\n",
    "if np.sum(dVaF < 0) > 0: # Print message if there exists an element of dVaF < 0\n",
    "    print('V is not monotonically increasing in a')\n",
    "\n",
    "if np.sum(dVkF < 0) > 0: # Print message if there exists an element of dVkF < 0\n",
    "    print('V is not monotonically increasing in k')"
   ]
  },
  {
   "cell_type": "code",
   "execution_count": 386,
   "metadata": {},
   "outputs": [],
   "source": [
    "# FOC for consumption, which depends only on dVa\n",
    "cF = u_prime_inverse(dVaF, c_param)\n",
    "cB = u_prime_inverse(dVaB, c_param)"
   ]
  },
  {
   "cell_type": "code",
   "execution_count": 387,
   "metadata": {},
   "outputs": [],
   "source": [
    "# FOC for x, which depends only on dVa and dVk. Corners at 0 and 1 taken into account.\n",
    "xFF = np.clip(g_prime_inverse(-dVkF/dVaF), 0, 1)\n",
    "xFB = np.clip(g_prime_inverse(-dVkB/dVaF), 0, 1)\n",
    "xBF = np.clip(g_prime_inverse(-dVkF/dVaB), 0, 1)\n",
    "xBB = np.clip(g_prime_inverse(-dVkB/dVaB), 0, 1)"
   ]
  },
  {
   "cell_type": "code",
   "execution_count": 388,
   "metadata": {},
   "outputs": [],
   "source": [
    "# FOC for h. Corners at 0 and 1 taken into account.\n",
    "hFF = np.clip(uh_prime_inverse(-dVaF*k*g(xFF) - dVkF, l_param), 0, 1)\n",
    "hFB = np.clip(uh_prime_inverse(-dVaF*k*g(xFB) - dVkB, l_param), 0, 1)\n",
    "hBF = np.clip(uh_prime_inverse(-dVaB*k*g(xBF) - dVkF, l_param), 0, 1)\n",
    "hBB = np.clip(uh_prime_inverse(-dVaB*k*g(xBB) - dVkB, l_param), 0, 1)"
   ]
  },
  {
   "cell_type": "code",
   "execution_count": 389,
   "metadata": {},
   "outputs": [],
   "source": [
    "# Drift matrices for a\n",
    "mu_aFF = hFF*k*g(xFF) + r*a - cF\n",
    "mu_aFB = hFB*k*g(xFB) + r*a - cF\n",
    "mu_aBF = hBF*k*g(xBF) + r*a - cB\n",
    "mu_aBB = hBB*k*g(xBB) + r*a - cB\n",
    "\n",
    "# Drift matrices for k\n",
    "mu_kFF = hFF*k*xFF - delta*k\n",
    "mu_kFB = hFB*k*xFB - delta*k\n",
    "mu_kBF = hBF*k*xBF - delta*k\n",
    "mu_kBB = hBB*k*xBB - delta*k"
   ]
  },
  {
   "cell_type": "code",
   "execution_count": 390,
   "metadata": {},
   "outputs": [],
   "source": [
    "# Create indicator matrices indicating consistency of direction of drift with fwd/bwd difference\n",
    "# Impose False at boundary if fwd/bwd difference implies drift sends state beyond boundary\n",
    "I_FF = np.logical_and(mu_aFF > 0, mu_kFF > 0)\n",
    "I_FF[na-1, :] = False\n",
    "I_FF[:, nk-1] = False\n",
    "\n",
    "I_FB = np.logical_and(mu_aFB > 0, mu_kFB < 0)\n",
    "I_FB[na-1, :] = False\n",
    "I_FB[:, 0] = False\n",
    "\n",
    "I_BF = np.logical_and(mu_aBF < 0, mu_kFF > 0)\n",
    "I_BF[0, :] = False\n",
    "I_BF[:, nk-1] = False\n",
    "\n",
    "I_BB = np.logical_and(mu_aBB < 0, mu_kFB < 0)\n",
    "I_BB[0, :] = False\n",
    "I_BB[:, 0] = False"
   ]
  },
  {
   "cell_type": "code",
   "execution_count": 391,
   "metadata": {},
   "outputs": [],
   "source": [
    "# Compute validity of fwd/bwd difference combinations\n",
    "# Stack all indicator matrices\n",
    "I_stacked = np.zeros((na, nk, 4))\n",
    "I_stacked[:, :, 0] = I_FF\n",
    "I_stacked[:, :, 1] = I_FB\n",
    "I_stacked[:, :, 2] = I_BF\n",
    "I_stacked[:, :, 3] = I_BB\n",
    "\n",
    "# Use logical_or over all 4 combinations; if at least one is valid, I_valid is True\n",
    "I_valid = np.logical_or.reduce((I_FF, I_FB, I_BF, I_BB))\n",
    "I_type = np.argmax(I_stacked, axis = 2)"
   ]
  },
  {
   "cell_type": "code",
   "execution_count": 392,
   "metadata": {},
   "outputs": [],
   "source": [
    "# Function computes drift in a given a dVa\n",
    "def boundary_dVa(dVa, dVkj, a, kj, l_param):\n",
    "    xstar = np.clip(g_prime_inverse(-dVkj/dVa), 0, 1)\n",
    "    hstar = np.clip(uh_prime_inverse(-dVa*kj*g(xstar) - dVkj, l_param), 0, 1)\n",
    "    return hstar*kj*g(xstar) + r*a - dVa**(-1/c_param)"
   ]
  },
  {
   "cell_type": "code",
   "execution_count": 393,
   "metadata": {},
   "outputs": [
    {
     "output_type": "stream",
     "name": "stdout",
     "text": "BF scheme failed; now trying BB scheme\nBF scheme failed; now trying BB scheme\nBB scheme success\nBF scheme failed; now trying BB scheme\nBB scheme success\nBF scheme failed; now trying BB scheme\nBB scheme success\nBF scheme failed; now trying BB scheme\nBB scheme success\nBF scheme failed; now trying BB scheme\nBB scheme success\nBF scheme failed; now trying BB scheme\nBB scheme success\nBF scheme failed; now trying BB scheme\nBB scheme success\nBF scheme failed; now trying BB scheme\nBB scheme success\nBF scheme failed; now trying BB scheme\nBB scheme success\nBF scheme failed; now trying BB scheme\nBB scheme success\nBF scheme failed; now trying BB scheme\nBB scheme success\nBF scheme failed; now trying BB scheme\nBB scheme success\nBF scheme failed; now trying BB scheme\nBB scheme success\nBF scheme failed; now trying BB scheme\nBB scheme success\nBF scheme failed; now trying BB scheme\nBB scheme success\nBF scheme failed; now trying BB scheme\nBB scheme success\nBF scheme failed; now trying BB scheme\nBB scheme success\nBF scheme failed; now trying BB scheme\nBB scheme success\nBF scheme failed; now trying BB scheme\nBB scheme success\n"
    }
   ],
   "source": [
    "# Impose state boundary condition for a_min\n",
    "# First look at the case with mu_kBF\n",
    "# Loop over a_min (upper edge) in the j dimension\n",
    "aind = 0\n",
    "for j in range(0, nk):\n",
    "    if I_valid[aind, j] == False:\n",
    "        dVkj = dVkF[aind, j]\n",
    "        aval = a[aind, 0]\n",
    "        kj = k[aind, j]\n",
    "\n",
    "        # Find dVaB that satisfies FOC and a_min boundary conditio\n",
    "        dVa_guess = dVaB[aind, j]\n",
    "        dVaj = opt.fsolve(boundary_dVa, dVa_guess, args = (dVkj, aval, kj, l_param))[0]\n",
    "\n",
    "        # Compute drift and evaluate if drift is consistent with chosen fwd diff for k\n",
    "        xstar = np.clip(g_prime_inverse(-dVkj/dVaj), 0, 1)\n",
    "        hstar = np.clip(uh_prime_inverse(-dVaj*kj*g(xstar) - dVkj, l_param), 0, 1)\n",
    "        cstar = u_prime_inverse(dVaj, c_param)\n",
    "\n",
    "        mu_aj = hstar*kj*g(xstar) + r*aval - cstar\n",
    "        mu_kj = hstar*kj*xstar - delta*kj\n",
    "\n",
    "        if mu_kj >= 0 and j != nk - 1:\n",
    "            print('BF scheme success')\n",
    "\n",
    "            # fwd diff for k is successful; BF scheme works\n",
    "            I_valid[aind, j] = True\n",
    "            I_type[aind, j] = 2\n",
    "\n",
    "            # Replace bwd diff approximation for aval at j\n",
    "            dVaB[aind, j] = dVaj\n",
    "\n",
    "            # Replace bwd diff drift values\n",
    "            mu_aBF[aind, j] = mu_aj\n",
    "            mu_kBF[aind, j] = mu_kj\n",
    "\n",
    "        # BF scheme failed; try BB scheme\n",
    "        else:\n",
    "            print('BF scheme failed; now trying BB scheme')\n",
    "            dVkj = dVkB[aind, j]\n",
    "            dVaj = opt.fsolve(boundary_dVa, dVa_guess, args = (dVkj, aval, kj, l_param))[0]\n",
    "\n",
    "            xstar = np.clip(g_prime_inverse(-dVkj/dVaj), 0, 1)\n",
    "            hstar = np.clip(uh_prime_inverse(-dVaj*kj*g(xstar) - dVkj, l_param), 0, 1)\n",
    "            cstar = u_prime_inverse(dVaj, c_param)\n",
    "\n",
    "            # Evaluate if drift is consistent with chosen bwd diff for k\n",
    "            mu_aj = hstar*kj*g(xstar) + r*aval - cstar\n",
    "            mu_kj = hstar*kj*xstar - delta*kj\n",
    "\n",
    "\n",
    "            if mu_kj <= 0 and j != 0:\n",
    "                print('BB scheme success')\n",
    "                # bwd diff for k is successful; BB scheme works\n",
    "                I_valid[aind, j] = True\n",
    "                I_type[aind, j] = 3\n",
    "\n",
    "                # Replace bwd diff approximation for aval at j\n",
    "                dVaB[aind, j] = dVaj\n",
    "\n",
    "                # Replace bwd diff drift values\n",
    "                mu_aBB[aind, j] = mu_aj\n",
    "                mu_kBB[aind, j] = mu_kj"
   ]
  },
  {
   "cell_type": "code",
   "execution_count": 394,
   "metadata": {},
   "outputs": [
    {
     "output_type": "stream",
     "name": "stdout",
     "text": "FF scheme failed; now trying FB scheme\n"
    }
   ],
   "source": [
    "# Impose state boundary condition for a_max\n",
    "# First look at the case with mu_kBF\n",
    "# Loop over a_max (upper edge) in the j dimension\n",
    "aind = na-1\n",
    "for j in range(0, nk):\n",
    "    if I_valid[aind, j] == False:\n",
    "        dVkj = dVkF[aind, j]\n",
    "        aval = a[aind, 0]\n",
    "        kj = k[aind, j]\n",
    "\n",
    "        # Find dVaF that satisfies FOC and a_max boundary condition\n",
    "        dVa_guess = dVaF[aind, j]\n",
    "        dVaj = opt.fsolve(boundary_dVa, dVa_guess, args = (dVkj, aval, kj, l_param))[0]\n",
    "\n",
    "        # Compute drift and evaluate if drift is consistent with chosen fwd diff for k\n",
    "        xstar = np.clip(g_prime_inverse(-dVkj/dVaj), 0, 1)\n",
    "        hstar = np.clip(uh_prime_inverse(-dVaj*kj*g(xstar) - dVkj, l_param), 0, 1)\n",
    "        cstar = u_prime_inverse(dVaj, c_param)\n",
    "\n",
    "        mu_aj = hstar*kj*g(xstar) + r*aval - cstar\n",
    "        mu_kj = hstar*kj*xstar - delta*kj\n",
    "\n",
    "        if mu_kj >= 0 and j != nk - 1:\n",
    "            print('FF scheme success')\n",
    "            # fwd diff for k is successful; FF scheme works\n",
    "            I_valid[aind, j] = True\n",
    "            I_type[aind, j] = 0\n",
    "\n",
    "            # Replace fwd diff approximation for aval at j\n",
    "            dVaF[aind, j] = dVaj\n",
    "\n",
    "            # Replace bwd diff drift values\n",
    "            mu_aFF[aind, j] = mu_aj\n",
    "            mu_kFF[aind, j] = mu_kj\n",
    "\n",
    "        # BF scheme failed; try BB scheme\n",
    "        else:\n",
    "            print('FF scheme failed; now trying FB scheme')\n",
    "            dVkj = dVkB[aind, j]\n",
    "            dVaj = opt.fsolve(boundary_dVa, dVa_guess, args = (dVkj, aval, kj, l_param))[0]\n",
    "\n",
    "            xstar = np.clip(g_prime_inverse(-dVkj/dVaj), 0, 1)\n",
    "            hstar = np.clip(uh_prime_inverse(-dVaj*kj*g(xstar) - dVkj, l_param), 0, 1)\n",
    "            cstar = u_prime_inverse(dVaj, c_param)\n",
    "\n",
    "            # Evaluate if drift is consistent with chosen bwd diff for k\n",
    "            mu_aj = hstar*kj*g(xstar) + r*aval - cstar\n",
    "            mu_kj = hstar*kj*xstar - delta*kj\n",
    "\n",
    "            if mu_kj <= 0 and j != 0:\n",
    "                print('FB scheme success')\n",
    "                # bwd diff for k is successful; BB scheme works\n",
    "                I_valid[aind, j] = True\n",
    "                I_type[aind, j] = 1\n",
    "\n",
    "                # Replace bwd diff approximation for aval at j\n",
    "                dVaB[aind, j] = dVaj\n",
    "\n",
    "                # Replace bwd diff drift values\n",
    "                mu_aFB[aind, j] = mu_aj\n",
    "                mu_kFB[aind, j] = mu_kj"
   ]
  },
  {
   "cell_type": "code",
   "execution_count": 395,
   "metadata": {},
   "outputs": [],
   "source": [
    "# Function computes drift in k for a given dVk\n",
    "def boundary_dVk(dVk, dVai, ai, k, l_param):\n",
    "        xstar = np.clip(g_prime_inverse(-dVk/dVai), 0, 1)\n",
    "        hstar = np.clip(uh_prime_inverse(-dVai*k*g(xstar) - dVk, l_param), 0, 1)\n",
    "        return hstar*k*xstar - delta*k"
   ]
  },
  {
   "cell_type": "code",
   "execution_count": 396,
   "metadata": {},
   "outputs": [
    {
     "output_type": "stream",
     "name": "stdout",
     "text": "FB scheme failed; now trying BB scheme\nFB scheme failed; now trying BB scheme\nBB scheme success\nFB scheme failed; now trying BB scheme\nBB scheme success\nFB scheme failed; now trying BB scheme\nBB scheme success\nFB scheme failed; now trying BB scheme\nBB scheme success\nFB scheme failed; now trying BB scheme\nBB scheme success\nFB scheme failed; now trying BB scheme\nBB scheme success\nFB scheme failed; now trying BB scheme\nBB scheme success\nFB scheme failed; now trying BB scheme\nBB scheme success\nFB scheme failed; now trying BB scheme\nBB scheme success\nFB scheme failed; now trying BB scheme\nBB scheme success\nFB scheme failed; now trying BB scheme\nBB scheme success\nFB scheme failed; now trying BB scheme\nBB scheme success\nFB scheme failed; now trying BB scheme\nBB scheme success\nFB scheme failed; now trying BB scheme\nBB scheme success\nFB scheme failed; now trying BB scheme\nBB scheme success\nFB scheme failed; now trying BB scheme\nBB scheme success\nFB scheme failed; now trying BB scheme\nBB scheme success\nFB scheme failed; now trying BB scheme\nBB scheme success\nFB scheme failed; now trying BB scheme\nBB scheme success\nFB scheme failed; now trying BB scheme\nBB scheme success\nFB scheme failed; now trying BB scheme\nBB scheme success\nFB scheme failed; now trying BB scheme\nBB scheme success\nFB scheme failed; now trying BB scheme\nBB scheme success\nFB scheme failed; now trying BB scheme\nBB scheme success\nFB scheme failed; now trying BB scheme\nBB scheme success\nFB scheme failed; now trying BB scheme\nBB scheme success\nFB scheme failed; now trying BB scheme\nBB scheme success\nFB scheme failed; now trying BB scheme\nBB scheme success\nFB scheme failed; now trying BB scheme\nBB scheme success\n"
    }
   ],
   "source": [
    "# Impose state boundary condition for k_min\n",
    "# First look at the case with mu_aFB\n",
    "# Loop over k_min (upper edge) in the i dimension\n",
    "kind = 0\n",
    "for i in range(0, na):\n",
    "    if I_valid[i, kind] == False:\n",
    "        dVai = dVaF[i, kind]\n",
    "        kval = k[0, kind]\n",
    "        ai = a[i, kind]\n",
    "\n",
    "        # Find dVkB that satisfies FOC and k_min boundary condition\n",
    "        dVk_guess = dVkF[i, kind]\n",
    "        dVki = opt.fsolve(boundary_dVk, dVk_guess, args = (dVai, ai, kval, l_param))[0]\n",
    "\n",
    "        # Compute drift and evaluate if drift is consistent with chosen fwd diff for a\n",
    "        xstar = np.clip(g_prime_inverse(-dVki/dVai), 0, 1)\n",
    "        hstar = np.clip(uh_prime_inverse(-dVai*kval*g(xstar) - dVki, l_param), 0, 1)\n",
    "        cstar = u_prime_inverse(dVai, c_param)\n",
    "\n",
    "        mu_ai = hstar*kval*g(xstar) + r*ai - cstar\n",
    "        mu_ki = hstar*kval*xstar - delta*kval\n",
    "\n",
    "        if mu_ai >= 0 and i != na:\n",
    "            print('FB scheme success')\n",
    "            # fwd diff for a is successful; FB scheme works\n",
    "            I_valid[i, kind] = True\n",
    "            I_type[i, kind] = 1\n",
    "\n",
    "            # Replace bwd diff approximation for kmin at i\n",
    "            dVkB[i, kind] = dVki\n",
    "\n",
    "            # Replace bwd diff drift values\n",
    "            mu_aFB[i, kind] = mu_ai\n",
    "            mu_kFB[i, kind] = mu_ki\n",
    "\n",
    "        # FB scheme failed, try BB\n",
    "        else:\n",
    "            print('FB scheme failed; now trying BB scheme')\n",
    "            dVai = dVaB[i, kind]\n",
    "\n",
    "            # Find dVkB that satisfies FOC and k_min boundary condition\n",
    "            dVk_guess = dVkB[i, kind]\n",
    "            dVki = opt.fsolve(boundary_dVk, dVk_guess, args = (dVai, ai, kval, l_param))[0]\n",
    "\n",
    "            # Compute drift and evaluate if drift is consistent with chosen fwd diff for a\n",
    "            xstar = np.clip(g_prime_inverse(-dVki/dVai), 0, 1)\n",
    "            hstar = np.clip(uh_prime_inverse(-dVai*kval*g(xstar) - dVki, l_param), 0, 1)\n",
    "            cstar = u_prime_inverse(dVai, c_param)\n",
    "\n",
    "            mu_ai = hstar*kval*g(xstar) + r*ai - cstar\n",
    "            mu_ki = hstar*kval*xstar - delta*kval\n",
    "\n",
    "            if mu_ai <= 0 and i != 0:\n",
    "                print('BB scheme success')\n",
    "                # bwd diff for a is successful; BB scheme works\n",
    "                I_valid[i, kind] = True\n",
    "                I_type[i, kind] = 3\n",
    "\n",
    "                # Replace bwd diff approximation for amax at j\n",
    "                dVkB[i, kind] = dVki\n",
    "\n",
    "                # Replace bwd diff drift values\n",
    "                mu_aBB[i, kind] = mu_ai\n",
    "                mu_kBB[i, kind] = mu_ki\n"
   ]
  },
  {
   "cell_type": "code",
   "execution_count": 397,
   "metadata": {},
   "outputs": [
    {
     "output_type": "stream",
     "name": "stdout",
     "text": "FF scheme failed; now trying BF scheme\n"
    }
   ],
   "source": [
    "# Impose state boundary condition for k_max\n",
    "# First look at the case with mu_aFF\n",
    "# Loop over k_max (upper edge) in the i dimension\n",
    "kind = 0\n",
    "for i in range(0, na):\n",
    "    if I_valid[i, kind] == False:\n",
    "        dVai = dVaF[i, kind]\n",
    "        kval = k[0, kind]\n",
    "        ai = a[i, kind]\n",
    "\n",
    "        # Find dVkF that satisfies FOC and k_max boundary condition\n",
    "        dVk_guess = dVkB[i, kind]\n",
    "        dVki = opt.fsolve(boundary_dVk, dVk_guess, args = (dVai, ai, kval, l_param))[0]\n",
    "\n",
    "        # Compute drift and evaluate if drift is consistent with chosen fwd diff for a\n",
    "        xstar = np.clip(g_prime_inverse(-dVki/dVai), 0, 1)\n",
    "        hstar = np.clip(uh_prime_inverse(-dVai*kval*g(xstar) - dVki, l_param), 0, 1)\n",
    "        cstar = u_prime_inverse(dVai, c_param)\n",
    "\n",
    "        mu_ai = hstar*kval*g(xstar) + r*ai - cstar\n",
    "        mu_ki = hstar*kval*xstar - delta*kval\n",
    "\n",
    "        if mu_ai >= 0 and i != na:\n",
    "            print('FF scheme success')\n",
    "            # fwd diff for a is successful; FF scheme works\n",
    "            I_valid[i, kind] = True\n",
    "            I_type[i, kind] = 0\n",
    "\n",
    "            # Replace fwd diff approximation for kmax at i\n",
    "            dVkF[i, kind] = dVki\n",
    "\n",
    "            # Replace drift values\n",
    "            mu_aFF[i, kind] = mu_ai\n",
    "            mu_kFF[i, kind] = mu_ki\n",
    "\n",
    "        # FF scheme failed, try BF\n",
    "        else:\n",
    "            print('FF scheme failed; now trying BF scheme')\n",
    "            dVai = dVaB[i, kind]\n",
    "\n",
    "            # Find dVkB that satisfies FOC and k_max boundary condition\n",
    "            dVk_guess = dVkF[i, kind]\n",
    "            dVki = opt.fsolve(boundary_dVk, dVk_guess, args = (dVai, ai, kval, l_param))[0]\n",
    "\n",
    "            # Compute drift and evaluate if drift is consistent with chosen fwd diff for a\n",
    "            xstar = np.clip(g_prime_inverse(-dVki/dVai), 0, 1)\n",
    "            hstar = np.clip(uh_prime_inverse(-dVai*kval*g(xstar) - dVki, l_param), 0, 1)\n",
    "            cstar = u_prime_inverse(dVai, c_param)\n",
    "\n",
    "            mu_ai = hstar*kval*g(xstar) + r*ai - cstar\n",
    "            mu_ki = hstar*kval*xstar - delta*kval\n",
    "\n",
    "            if mu_ai <= 0 and i != 0:\n",
    "                print('BF scheme success')\n",
    "                # bwd diff for a is successful; BF scheme works\n",
    "                I_valid[i, kind] = True\n",
    "                I_type[i, kind] = 2\n",
    "\n",
    "                # Replace fwd diff approximation for kmax at i\n",
    "                dVkF[i, kind] = dVki\n",
    "\n",
    "                # Replace bwd diff drift values\n",
    "                mu_aBF[i, kind] = mu_ai\n",
    "                mu_kBF[i, kind] = mu_ki\n"
   ]
  },
  {
   "cell_type": "code",
   "execution_count": null,
   "metadata": {},
   "outputs": [],
   "source": []
  }
 ],
 "metadata": {
  "language_info": {
   "codemirror_mode": {
    "name": "ipython",
    "version": 3
   },
   "file_extension": ".py",
   "mimetype": "text/x-python",
   "name": "python",
   "nbconvert_exporter": "python",
   "pygments_lexer": "ipython3",
   "version": "3.7.6-final"
  },
  "orig_nbformat": 2,
  "kernelspec": {
   "name": "python3",
   "display_name": "Python 3"
  }
 },
 "nbformat": 4,
 "nbformat_minor": 2
}