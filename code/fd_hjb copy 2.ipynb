{
 "cells": [
  {
   "cell_type": "code",
   "execution_count": 1,
   "metadata": {},
   "outputs": [],
   "source": [
    "import numpy as np\n",
    "import sympy\n",
    "import scipy.optimize as opt\n",
    "import copy\n",
    "from mpl_toolkits import mplot3d\n",
    "import matplotlib.pyplot as plt\n",
    "from scipy.sparse import spdiags\n",
    "from scipy.sparse import eye"
   ]
  },
  {
   "cell_type": "code",
   "execution_count": 2,
   "metadata": {},
   "outputs": [],
   "source": [
    "# Parameters\n",
    "rho = 0.05\n",
    "r = 0.05\n",
    "delta = 0.07\n",
    "c_param = 2\n",
    "l_param = 2\n",
    "B_param = 2\n",
    "\n",
    "params = [rho, r, delta, c_param, l_param]\n",
    "\n",
    "# Time parameters\n",
    "T = 70 # length of lifespan\n",
    "nT = 280 # number of time grids\n",
    "dt = T/nT # Length of each time grid"
   ]
  },
  {
   "cell_type": "code",
   "execution_count": 3,
   "metadata": {},
   "outputs": [],
   "source": [
    "# Define utility functions\n",
    "def u(c, c_param):\n",
    "    return (c**(1-c_param))/(1-c_param)\n",
    "\n",
    "def u_prime(c, c_param):\n",
    "    return c**(-c_param)\n",
    "\n",
    "def u_prime_inverse(x, c_param):\n",
    "    return x**(-1/c_param)\n",
    "\n",
    "def uh(h, l_param):\n",
    "    return ((1-h)**(1-l_param))/(1-l_param)\n",
    "\n",
    "def uh_prime(h, l_param):\n",
    "    return -(1-h)**(-l_param)\n",
    "\n",
    "def uh_prime_inverse(x, l_param):\n",
    "    return 1 - ((-x)**(-1/l_param))"
   ]
  },
  {
   "cell_type": "code",
   "execution_count": 4,
   "metadata": {},
   "outputs": [],
   "source": [
    "# Labor market functions\n",
    "def g(x):\n",
    "    return 1.25 - (x*(1.25**0.5 - 0.5) + 0.5)**2\n",
    "\n",
    "def g_prime(x):\n",
    "    return -2*(x*(1.25**0.5 - 0.5) + 0.5)*(1.25**0.5 - 0.5)\n",
    "\n",
    "def g_prime_inverse(x):\n",
    "    return (x/(-2*(1.25**0.5 - 0.5)) - 0.5)/(1.25**0.5 - 0.5)"
   ]
  },
  {
   "source": [
    "Create grids"
   ],
   "cell_type": "markdown",
   "metadata": {}
  },
  {
   "cell_type": "code",
   "execution_count": 5,
   "metadata": {},
   "outputs": [],
   "source": [
    "# State grids\n",
    "na = 50 # number of asset grid points\n",
    "nk = 50 # number of human capital grid points\n",
    "\n",
    "amin = 1\n",
    "amax = 10\n",
    "\n",
    "kmin = 1\n",
    "kmax = 10\n",
    "\n",
    "a_vect = amin + np.linspace(0, 1, na)*(amax - amin) # Vector of A\n",
    "da = (amax - amin)/(na - 1) # delta in A\n",
    "aa = np.repeat(a_vect[:, None], nk, axis = 1) # Grid of A\n",
    "\n",
    "k_vect = kmin + np.linspace(0, 1, nk)*(kmax - kmin) # Vector of A\n",
    "dk = (kmax - kmin)/(nk - 1) # delta in K\n",
    "kk = np.repeat(k_vect[None, :], na, axis = 0) # Grid of K\n",
    "\n",
    "# Preallocate fwd/bwd derivatives, policy grid, value function grid\n",
    "dVaF = np.zeros((na, nk))\n",
    "dVaB = np.zeros((na, nk))\n",
    "dVkF = np.zeros((na, nk))\n",
    "dVkB = np.zeros((na, nk))\n",
    "\n",
    "V_t = np.zeros((na, nk, nT+1))\n",
    "C_t = np.zeros((na, nk, nT))\n",
    "H_t = np.zeros((na, nk, nT))\n",
    "X_t = np.zeros((na, nk, nT))\n",
    "U_t = np.zeros((na, nk, nT))\n",
    "mu_a_t = np.zeros((na, nk, nT))\n",
    "mu_k_t = np.zeros((na, nk, nT))\n",
    "dVa_t = np.zeros((na, nk, nT))\n",
    "dVk_t = np.zeros((na, nk, nT))\n",
    "\n",
    "\n",
    "# Arrays to store intermediate results for debugging\n",
    "dVaF_t = np.zeros((na, nk, nT))\n",
    "dVaB_t = np.zeros((na, nk, nT))\n",
    "dVkF_t = np.zeros((na, nk, nT))\n",
    "dVkB_t = np.zeros((na, nk, nT))\n",
    "I_valid_t = np.zeros((na, nk, nT))\n",
    "I_type_t = np.zeros((na, nk, nT))\n",
    "\n",
    "\n",
    "# Terminal value\n",
    "small_number1 = 10**(-16)\n",
    "small_number2 = 10**(-16)\n",
    "v_terminal = small_number1*((small_number2 + aa)**(1-B_param))/(1-B_param)\n",
    "\n",
    "# Place terminal value into value function grid\n",
    "V_t[:, :, nT] = v_terminal"
   ]
  },
  {
   "source": [
    "Define functions that find dVa and dVk at boundaries a_min and k_min"
   ],
   "cell_type": "markdown",
   "metadata": {}
  },
  {
   "cell_type": "code",
   "execution_count": 6,
   "metadata": {},
   "outputs": [],
   "source": [
    "# Drift functions\n",
    "def drift_a(dVa, dVk, a, k, params):\n",
    "    rho, r, delta, c_param, l_param = params\n",
    "    c = u_prime_inverse(dVa, c_param)\n",
    "    x = np.clip(g_prime_inverse(-dVk/dVa), 0, 1)\n",
    "    h = np.clip(uh_prime_inverse(-dVa*g(x)*k - dVk*x*k, l_param), 0, 1)\n",
    "\n",
    "    mu_a = r*a + g(x)*h*k - c\n",
    "    return mu_a\n",
    "\n",
    "def drift_k(dVk, dVa, a, k, params):\n",
    "    rho, r, delta, c_param, l_param = params\n",
    "    x = np.clip(g_prime_inverse(-dVk/dVa), 0, 1)\n",
    "    h = np.clip(uh_prime_inverse(-dVa*g(x)*k - dVk*x*k, l_param), 0, 1)\n",
    "\n",
    "    mu_k = a*x*h*k - delta*k\n",
    "    return mu_k"
   ]
  },
  {
   "cell_type": "code",
   "execution_count": 7,
   "metadata": {},
   "outputs": [],
   "source": [
    "def boundary_dVa(dVk, a, k, params):\n",
    "    \n",
    "    # Find dVa that leads to negative drift in a\n",
    "    dVa_neg = 1\n",
    "    while True:\n",
    "        if drift_a(dVa_neg, dVk, a, k, params) < 0:\n",
    "            break\n",
    "        else:\n",
    "            dVa_neg = dVa_neg/2\n",
    "\n",
    "    # Find dVa that leads to positive drift in a\n",
    "    dVa_pos = 1\n",
    "    while True:\n",
    "        if drift_a(dVa_pos, dVk, a, k, params) > 0:\n",
    "            break\n",
    "        else:\n",
    "            dVa_pos = dVa_pos + 1\n",
    "\n",
    "    # Use brentq to find the value of dVa where drift in a is 0, should be in between\n",
    "    sol = opt.brentq(drift_a, dVa_neg, dVa_pos, args = (dVk, a, k, params), xtol = 1e-16, rtol = 1e-15)\n",
    "    return sol\n",
    "\n",
    "def boundary_dVk(dVa, a, k, params):\n",
    "    \n",
    "    # Find dVk that leads to negative drift in k\n",
    "    dVk_neg = 1\n",
    "    while True:\n",
    "        if drift_k(dVk_neg, dVa, a, k, params) < 0:\n",
    "            break\n",
    "        else:\n",
    "            dVk_neg = dVk_neg/2\n",
    "\n",
    "    # Find dVk that leads to positive drift in k\n",
    "    dVk_pos = 1\n",
    "    while True:\n",
    "        if drift_k(dVk_pos, dVa, a, k, params) > 0:\n",
    "            break\n",
    "        else:\n",
    "            dVk_pos = dVk_pos + 1\n",
    "\n",
    "    sol = opt.brentq(drift_k, dVk_neg, dVk_pos, args = (dVa, a, k, params), xtol = 1e-16, rtol = 1e-15)\n",
    "    return sol"
   ]
  },
  {
   "source": [
    "Find steady-state"
   ],
   "cell_type": "markdown",
   "metadata": {}
  },
  {
   "cell_type": "code",
   "execution_count": 8,
   "metadata": {},
   "outputs": [],
   "source": [
    "# Define a function that computes mu_k for a given dVk where dVa is set to be such that mu_a=0\n",
    "def drift_k_dVk(dVk, a, k, params):\n",
    "    rho, r, delta, c_param, l_param = params\n",
    "\n",
    "    # dVa that leads to mu_a = 0 for given dVk\n",
    "    dVa = boundary_dVa(dVk, a, k, params)\n",
    "\n",
    "    mu_k = drift_k(dVk, dVa, a, k, params)\n",
    "    \n",
    "    return mu_k"
   ]
  },
  {
   "cell_type": "code",
   "execution_count": 9,
   "metadata": {},
   "outputs": [],
   "source": [
    "# Define a function that finds dVk that leads to mu_k=0 where dVa is set to be such that mu_a=0\n",
    "def ss_dVk(a, k, params):\n",
    "    rho, r, delta, c_param, l_param = params\n",
    "\n",
    "    # Find dVk that leads to negative drift in k\n",
    "    dVk_neg = 1\n",
    "    while True:\n",
    "        if drift_k_dVk(dVk_neg, a, k, params) < 0:\n",
    "            break\n",
    "        else:\n",
    "            dVk_neg = dVk_neg/2\n",
    "\n",
    "    # Find dVk that leads to positive drift in k\n",
    "    dVk_pos = 1\n",
    "    while True:\n",
    "        if drift_k_dVk(dVk_pos, a, k, params) > 0:\n",
    "            break\n",
    "        else:\n",
    "            dVk_pos = dVk_pos + 1\n",
    "\n",
    "    sol = opt.brentq(drift_k_dVk, dVk_neg, dVk_pos, args = (a, k, params), xtol = 1e-16, rtol = 1e-15)\n",
    "\n",
    "    return sol"
   ]
  },
  {
   "cell_type": "code",
   "execution_count": 10,
   "metadata": {},
   "outputs": [],
   "source": [
    "# Define a function that computes controls and drifts for given dV and state\n",
    "def control_drift(dVa, dVk, a, k, params):\n",
    "    rho, r, delta, c_param, l_param = params\n",
    "\n",
    "    c = u_prime_inverse(dVa, c_param)\n",
    "    x = np.clip(g_prime_inverse(-dVk/dVa), 0, 1)\n",
    "    h = np.clip(uh_prime_inverse(-dVa*g(x)*k - dVk*x*k, l_param), 0, 1)\n",
    "\n",
    "    mu_a = r*a + g(x)*h*k - c\n",
    "    mu_k = a*x*h*k - delta*k\n",
    "\n",
    "    return c, h, x, mu_a, mu_k"
   ]
  },
  {
   "cell_type": "code",
   "execution_count": 11,
   "metadata": {},
   "outputs": [],
   "source": [
    "# Find steady-state dVk0\n",
    "dVk0 = np.zeros((na, nk))\n",
    "dVa0 = np.zeros((na, nk))\n",
    "\n",
    "for i in range(na):\n",
    "    for j in range(nk):\n",
    "        dVk0[i,j] = ss_dVk(aa[i,j], kk[i,j], params)\n",
    "        dVa0[i,j] = boundary_dVa(dVk0[i,j], aa[i,j], kk[i,j], params)"
   ]
  },
  {
   "cell_type": "code",
   "execution_count": 12,
   "metadata": {},
   "outputs": [
    {
     "output_type": "error",
     "ename": "NameError",
     "evalue": "name &#39;dVa&#39; is not defined",
     "traceback": [
      "\u001b[1;31m---------------------------------------------------------------------------\u001b[0m",
      "\u001b[1;31mNameError\u001b[0m                                 Traceback (most recent call last)",
      "\u001b[1;32m&lt;ipython-input-12-61f7cfb92ca7&gt;\u001b[0m in \u001b[0;36m&lt;module&gt;\u001b[1;34m\u001b[0m\n\u001b[0;32m      1\u001b[0m \u001b[1;31m# Fill in the rest of the steady-state values\u001b[0m\u001b[1;33m\u001b[0m\u001b[1;33m\u001b[0m\u001b[1;33m\u001b[0m\u001b[0m\n\u001b[1;32m----&gt; 2\u001b[1;33m \u001b[0mC0\u001b[0m\u001b[1;33m,\u001b[0m \u001b[0mH0\u001b[0m\u001b[1;33m,\u001b[0m \u001b[0mX0\u001b[0m\u001b[1;33m,\u001b[0m \u001b[0mmu_a0\u001b[0m\u001b[1;33m,\u001b[0m \u001b[0mmu_k0\u001b[0m \u001b[1;33m=\u001b[0m \u001b[0mcontrol_drift\u001b[0m\u001b[1;33m(\u001b[0m\u001b[0mdVa\u001b[0m\u001b[1;33m,\u001b[0m \u001b[0mdVk\u001b[0m\u001b[1;33m,\u001b[0m \u001b[0maa\u001b[0m\u001b[1;33m,\u001b[0m \u001b[0mkk\u001b[0m\u001b[1;33m,\u001b[0m \u001b[0mparams\u001b[0m\u001b[1;33m)\u001b[0m\u001b[1;33m\u001b[0m\u001b[1;33m\u001b[0m\u001b[0m\n\u001b[0m",
      "\u001b[1;31mNameError\u001b[0m: name &#39;dVa&#39; is not defined"
     ]
    }
   ],
   "source": [
    "# Fill in the rest of the steady-state values\n",
    "C0, H0, X0, mu_a0, mu_k0 = control_drift(dVa0, dVk0, aa, kk, params)"
   ]
  },
  {
   "source": [
    "Begin iterations"
   ],
   "cell_type": "markdown",
   "metadata": {}
  },
  {
   "cell_type": "code",
   "execution_count": 207,
   "metadata": {
    "tags": []
   },
   "outputs": [
    {
     "output_type": "stream",
     "name": "stdout",
     "text": "Age is 69.75.\na_min completed\na_max completed\nk_min completed\nk_max completed\nAge is 69.5.\na_min completed\na_max completed\nk_min completed\nk_max completed\nAge is 69.25.\na_min completed\na_max completed\nk_min completed\nk_max completed\nAge is 69.0.\nV is not monotonically increasing in k\na_min completed\na_max completed\nk_min completed\nk_max completed\nAge is 68.75.\na_min completed\na_max completed\nk_min completed\nk_max completed\nAge is 68.5.\na_min completed\na_max completed\nk_min completed\nk_max completed\nAge is 68.25.\na_min completed\na_max completed\nk_min completed\nk_max completed\nAge is 68.0.\na_min completed\na_max completed\nk_min completed\nk_max completed\nAge is 67.75.\na_min completed\na_max completed\nk_min completed\nk_max completed\nAge is 67.5.\nV is not monotonically increasing in a\na_min completed\na_max completed\nk_min completed\nk_max completed\nAge is 67.25.\n"
    },
    {
     "output_type": "error",
     "ename": "ZeroDivisionError",
     "evalue": "0.0 cannot be raised to a negative power",
     "traceback": [
      "\u001b[1;31m---------------------------------------------------------------------------\u001b[0m",
      "\u001b[1;31mZeroDivisionError\u001b[0m                         Traceback (most recent call last)",
      "\u001b[1;32m&lt;ipython-input-207-eee586b23c72&gt;\u001b[0m in \u001b[0;36m&lt;module&gt;\u001b[1;34m\u001b[0m\n\u001b[0;32m     76\u001b[0m             \u001b[1;31m# Try BF scheme, so use dVkF\u001b[0m\u001b[1;33m\u001b[0m\u001b[1;33m\u001b[0m\u001b[1;33m\u001b[0m\u001b[0m\n\u001b[0;32m     77\u001b[0m             \u001b[0mdVkj\u001b[0m \u001b[1;33m=\u001b[0m \u001b[0mdVkF\u001b[0m\u001b[1;33m[\u001b[0m\u001b[0maind\u001b[0m\u001b[1;33m,\u001b[0m \u001b[0mj\u001b[0m\u001b[1;33m]\u001b[0m\u001b[1;33m\u001b[0m\u001b[1;33m\u001b[0m\u001b[0m\n\u001b[1;32m---&gt; 78\u001b[1;33m             \u001b[0mdVaj\u001b[0m \u001b[1;33m=\u001b[0m \u001b[0mboundary_dVa\u001b[0m\u001b[1;33m(\u001b[0m\u001b[0mdVkj\u001b[0m\u001b[1;33m,\u001b[0m \u001b[0maval\u001b[0m\u001b[1;33m,\u001b[0m \u001b[0mkj\u001b[0m\u001b[1;33m,\u001b[0m \u001b[0mparams\u001b[0m\u001b[1;33m)\u001b[0m\u001b[1;33m\u001b[0m\u001b[1;33m\u001b[0m\u001b[0m\n\u001b[0m\u001b[0;32m     79\u001b[0m \u001b[1;33m\u001b[0m\u001b[0m\n\u001b[0;32m     80\u001b[0m             \u001b[1;31m# Compute drift and evaluate if drift is consistent with chosen fwd diff for k\u001b[0m\u001b[1;33m\u001b[0m\u001b[1;33m\u001b[0m\u001b[1;33m\u001b[0m\u001b[0m\n",
      "\u001b[1;32m&lt;ipython-input-201-cc68e4d2e2eb&gt;\u001b[0m in \u001b[0;36mboundary_dVa\u001b[1;34m(dVk, a, k, params)\u001b[0m\n\u001b[0;32m      4\u001b[0m     \u001b[0mdVa_neg\u001b[0m \u001b[1;33m=\u001b[0m \u001b[1;36m1\u001b[0m\u001b[1;33m\u001b[0m\u001b[1;33m\u001b[0m\u001b[0m\n\u001b[0;32m      5\u001b[0m     \u001b[1;32mwhile\u001b[0m \u001b[1;32mTrue\u001b[0m\u001b[1;33m:\u001b[0m\u001b[1;33m\u001b[0m\u001b[1;33m\u001b[0m\u001b[0m\n\u001b[1;32m----&gt; 6\u001b[1;33m         \u001b[1;32mif\u001b[0m \u001b[0mdrift_a\u001b[0m\u001b[1;33m(\u001b[0m\u001b[0mdVa_neg\u001b[0m\u001b[1;33m,\u001b[0m \u001b[0mdVk\u001b[0m\u001b[1;33m,\u001b[0m \u001b[0ma\u001b[0m\u001b[1;33m,\u001b[0m \u001b[0mk\u001b[0m\u001b[1;33m,\u001b[0m \u001b[0mparams\u001b[0m\u001b[1;33m)\u001b[0m \u001b[1;33m&lt;\u001b[0m \u001b[1;36m0\u001b[0m\u001b[1;33m:\u001b[0m\u001b[1;33m\u001b[0m\u001b[1;33m\u001b[0m\u001b[0m\n\u001b[0m\u001b[0;32m      7\u001b[0m             \u001b[1;32mbreak\u001b[0m\u001b[1;33m\u001b[0m\u001b[1;33m\u001b[0m\u001b[0m\n\u001b[0;32m      8\u001b[0m         \u001b[1;32melse\u001b[0m\u001b[1;33m:\u001b[0m\u001b[1;33m\u001b[0m\u001b[1;33m\u001b[0m\u001b[0m\n",
      "\u001b[1;32m&lt;ipython-input-200-1b255f8d7c94&gt;\u001b[0m in \u001b[0;36mdrift_a\u001b[1;34m(dVa, dVk, a, k, params)\u001b[0m\n\u001b[0;32m      2\u001b[0m \u001b[1;32mdef\u001b[0m \u001b[0mdrift_a\u001b[0m\u001b[1;33m(\u001b[0m\u001b[0mdVa\u001b[0m\u001b[1;33m,\u001b[0m \u001b[0mdVk\u001b[0m\u001b[1;33m,\u001b[0m \u001b[0ma\u001b[0m\u001b[1;33m,\u001b[0m \u001b[0mk\u001b[0m\u001b[1;33m,\u001b[0m \u001b[0mparams\u001b[0m\u001b[1;33m)\u001b[0m\u001b[1;33m:\u001b[0m\u001b[1;33m\u001b[0m\u001b[1;33m\u001b[0m\u001b[0m\n\u001b[0;32m      3\u001b[0m     \u001b[0mrho\u001b[0m\u001b[1;33m,\u001b[0m \u001b[0mr\u001b[0m\u001b[1;33m,\u001b[0m \u001b[0mdelta\u001b[0m\u001b[1;33m,\u001b[0m \u001b[0mc_param\u001b[0m\u001b[1;33m,\u001b[0m \u001b[0ml_param\u001b[0m \u001b[1;33m=\u001b[0m \u001b[0mparams\u001b[0m\u001b[1;33m\u001b[0m\u001b[1;33m\u001b[0m\u001b[0m\n\u001b[1;32m----&gt; 4\u001b[1;33m     \u001b[0mc\u001b[0m \u001b[1;33m=\u001b[0m \u001b[0mu_prime_inverse\u001b[0m\u001b[1;33m(\u001b[0m\u001b[0mdVa\u001b[0m\u001b[1;33m,\u001b[0m \u001b[0mc_param\u001b[0m\u001b[1;33m)\u001b[0m\u001b[1;33m\u001b[0m\u001b[1;33m\u001b[0m\u001b[0m\n\u001b[0m\u001b[0;32m      5\u001b[0m     \u001b[0mx\u001b[0m \u001b[1;33m=\u001b[0m \u001b[0mnp\u001b[0m\u001b[1;33m.\u001b[0m\u001b[0mclip\u001b[0m\u001b[1;33m(\u001b[0m\u001b[0mg_prime_inverse\u001b[0m\u001b[1;33m(\u001b[0m\u001b[1;33m-\u001b[0m\u001b[0mdVk\u001b[0m\u001b[1;33m/\u001b[0m\u001b[0mdVa\u001b[0m\u001b[1;33m)\u001b[0m\u001b[1;33m,\u001b[0m \u001b[1;36m0\u001b[0m\u001b[1;33m,\u001b[0m \u001b[1;36m1\u001b[0m\u001b[1;33m)\u001b[0m\u001b[1;33m\u001b[0m\u001b[1;33m\u001b[0m\u001b[0m\n\u001b[0;32m      6\u001b[0m     \u001b[0mh\u001b[0m \u001b[1;33m=\u001b[0m \u001b[0mnp\u001b[0m\u001b[1;33m.\u001b[0m\u001b[0mclip\u001b[0m\u001b[1;33m(\u001b[0m\u001b[0muh_prime_inverse\u001b[0m\u001b[1;33m(\u001b[0m\u001b[1;33m-\u001b[0m\u001b[0mdVa\u001b[0m\u001b[1;33m*\u001b[0m\u001b[0mg\u001b[0m\u001b[1;33m(\u001b[0m\u001b[0mx\u001b[0m\u001b[1;33m)\u001b[0m\u001b[1;33m*\u001b[0m\u001b[0mk\u001b[0m \u001b[1;33m-\u001b[0m \u001b[0mdVk\u001b[0m\u001b[1;33m*\u001b[0m\u001b[0mx\u001b[0m\u001b[1;33m*\u001b[0m\u001b[0mk\u001b[0m\u001b[1;33m,\u001b[0m \u001b[0ml_param\u001b[0m\u001b[1;33m)\u001b[0m\u001b[1;33m,\u001b[0m \u001b[1;36m0\u001b[0m\u001b[1;33m,\u001b[0m \u001b[1;36m1\u001b[0m\u001b[1;33m)\u001b[0m\u001b[1;33m\u001b[0m\u001b[1;33m\u001b[0m\u001b[0m\n",
      "\u001b[1;32m&lt;ipython-input-197-2b0aede9443a&gt;\u001b[0m in \u001b[0;36mu_prime_inverse\u001b[1;34m(x, c_param)\u001b[0m\n\u001b[0;32m      7\u001b[0m \u001b[1;33m\u001b[0m\u001b[0m\n\u001b[0;32m      8\u001b[0m \u001b[1;32mdef\u001b[0m \u001b[0mu_prime_inverse\u001b[0m\u001b[1;33m(\u001b[0m\u001b[0mx\u001b[0m\u001b[1;33m,\u001b[0m \u001b[0mc_param\u001b[0m\u001b[1;33m)\u001b[0m\u001b[1;33m:\u001b[0m\u001b[1;33m\u001b[0m\u001b[1;33m\u001b[0m\u001b[0m\n\u001b[1;32m----&gt; 9\u001b[1;33m     \u001b[1;32mreturn\u001b[0m \u001b[0mx\u001b[0m\u001b[1;33m**\u001b[0m\u001b[1;33m(\u001b[0m\u001b[1;33m-\u001b[0m\u001b[1;36m1\u001b[0m\u001b[1;33m/\u001b[0m\u001b[0mc_param\u001b[0m\u001b[1;33m)\u001b[0m\u001b[1;33m\u001b[0m\u001b[1;33m\u001b[0m\u001b[0m\n\u001b[0m\u001b[0;32m     10\u001b[0m \u001b[1;33m\u001b[0m\u001b[0m\n\u001b[0;32m     11\u001b[0m \u001b[1;32mdef\u001b[0m \u001b[0muh\u001b[0m\u001b[1;33m(\u001b[0m\u001b[0mh\u001b[0m\u001b[1;33m,\u001b[0m \u001b[0ml_param\u001b[0m\u001b[1;33m)\u001b[0m\u001b[1;33m:\u001b[0m\u001b[1;33m\u001b[0m\u001b[1;33m\u001b[0m\u001b[0m\n",
      "\u001b[1;31mZeroDivisionError\u001b[0m: 0.0 cannot be raised to a negative power"
     ]
    }
   ],
   "source": [
    "for t in range(nT-1, -1, -1):\n",
    "    age = t*dt\n",
    "    print(f'Age is {age}.')\n",
    "    V = V_t[:, :, t+1]\n",
    "\n",
    "    # Construct forward and backward differences for a and k\n",
    "    dVaF[0:na-1, :] = (V[1:na, :] - V[0:na-1, :])/da\n",
    "    dVaF[na-1, :] = dVaF[na-2, :]\n",
    "\n",
    "    dVkF[:, 0:nk-1] = (V[:, 1:nk] - V[:, 0:nk-1])/dk\n",
    "    dVkF[:, nk-1] = dVkF[:, nk-2]\n",
    "\n",
    "    dVaB[1:na, :] = (V[1:na, :] - V[0:na-1, :])/da\n",
    "    dVaB[0, :] = dVaB[1, :]\n",
    "\n",
    "    dVkB[:, 1:nk] = (V[:, 1:nk] - V[:, 0:nk-1])/dk\n",
    "    dVkB[:, 0] = dVkB[:, 1]\n",
    "\n",
    "    # Store differences for debugging\n",
    "    dVaF_t[:, :, t] = copy.copy(dVaF)\n",
    "    dVaB_t[:, :, t] = copy.copy(dVaB)\n",
    "    dVkF_t[:, :, t] = copy.copy(dVkF)\n",
    "    dVkB_t[:, :, t] = copy.copy(dVkB)\n",
    "\n",
    "    # Verify value function is increasing in a\n",
    "    if np.sum(dVaF < 0) > 0 or np.sum(dVaB < 0) > 0: # Print message if there exists an element of dVa < 0\n",
    "        print('V is not monotonically increasing in a')\n",
    "\n",
    "    if np.sum(dVkF < 0) > 0 or np.sum(dVkB < 0) > 0: # Print message if there exists an element of dVk < 0\n",
    "        print('V is not monotonically increasing in k')\n",
    "\n",
    "    # Compute policies and drift\n",
    "    cFF, hFF, xFF, mu_aFF, mu_kFF = control_drift(dVaF, dVkF, aa, kk, params)\n",
    "    cFB, hFB, xFB, mu_aFB, mu_kFB = control_drift(dVaF, dVkB, aa, kk, params)\n",
    "    cBF, hBF, xBF, mu_aBF, mu_kBF = control_drift(dVaB, dVkF, aa, kk, params)\n",
    "    cBB, hBB, xBB, mu_aBB, mu_kBB = control_drift(dVaB, dVkB, aa, kk, params)\n",
    "\n",
    "    # Create indicator matrices indicating consistency of direction of drift with fwd/bwd difference\n",
    "    # Impose False at boundary if fwd/bwd difference implies drift sends state beyond boundary\n",
    "    I_FF = np.logical_and(mu_aFF > 0, mu_kFF > 0)\n",
    "    I_FF[na-1, :] = False\n",
    "    I_FF[:, nk-1] = False\n",
    "\n",
    "    I_FB = np.logical_and(mu_aFB > 0, mu_kFB < 0)\n",
    "    I_FB[na-1, :] = False\n",
    "    I_FB[:, 0] = False\n",
    "\n",
    "    I_BF = np.logical_and(mu_aBF < 0, mu_kBF > 0)\n",
    "    I_BF[0, :] = False\n",
    "    I_BF[:, nk-1] = False\n",
    "\n",
    "    I_BB = np.logical_and(mu_aBB < 0, mu_kBB < 0)\n",
    "    I_BB[0, :] = False\n",
    "    I_BB[:, 0] = False\n",
    "\n",
    "    # Compute validity of fwd/bwd difference combinations\n",
    "    # Stack all indicator matrices\n",
    "    I_stacked = np.zeros((na, nk, 4))\n",
    "    I_stacked[:, :, 0] = I_FF\n",
    "    I_stacked[:, :, 1] = I_FB\n",
    "    I_stacked[:, :, 2] = I_BF\n",
    "    I_stacked[:, :, 3] = I_BB\n",
    "\n",
    "    # Use logical-or over all 4 combinations; if at least one is valid, I_valid is True\n",
    "    I_valid = np.logical_or.reduce((I_FF, I_FB, I_BF, I_BB))\n",
    "    I_type = np.argmax(I_stacked, axis = 2)\n",
    "\n",
    "    # Impose state boundary condition for a_min\n",
    "    # Loop over a_min (upper edge) in the j dimension\n",
    "    aind = 0\n",
    "    aval = aa[aind, 0]\n",
    "    for j in range(nk):\n",
    "        if I_valid[aind, j] == False:\n",
    "            kj = kk[aind, j]\n",
    "\n",
    "            # Try BF scheme, so use dVkF\n",
    "            dVkj = dVkF[aind, j]\n",
    "            dVaj = boundary_dVa(dVkj, aval, kj, params)\n",
    "\n",
    "            # Compute drift and evaluate if drift is consistent with chosen fwd diff for k\n",
    "            cstar, hstar, xstar, mu_aj, mu_kj = control_drift(dVaj, dVkj, aval, kj, params)\n",
    "\n",
    "            # Check consistency of upwind scheme\n",
    "            if mu_kj>=0 and j!=nk-1:\n",
    "                # fwd diff for k is successful; BF scheme works\n",
    "                I_valid[aind, j] = True\n",
    "                I_type[aind, j] = 2\n",
    "\n",
    "                # Replace bwd diff approximation for aval at j\n",
    "                dVaB[aind, j] = dVaj\n",
    "\n",
    "                # Replace bwd diff drift values\n",
    "                mu_aBF[aind, j] = mu_aj\n",
    "                mu_kBF[aind, j] = mu_kj\n",
    "\n",
    "            # BF scheme failed; try BB scheme\n",
    "            else:\n",
    "                dVkj = dVkB[aind, j]\n",
    "                dVaj = boundary_dVa(dVkj, aval, kj, params)\n",
    "\n",
    "                cstar, hstar, xstar, mu_aj, mu_kj = control_drift(dVaj, dVkj, aval, kj, params)\n",
    "\n",
    "                if mu_kj <= 0 and j != 0:\n",
    "                    # bwd diff for k is successful; BB scheme works\n",
    "                    I_valid[aind, j] = True\n",
    "                    I_type[aind, j] = 3\n",
    "\n",
    "                    # Replace bwd diff approximation for aval at j\n",
    "                    dVaB[aind, j] = dVaj\n",
    "\n",
    "                    # Replace bwd diff drift values\n",
    "                    mu_aBB[aind, j] = mu_aj\n",
    "                    mu_kBB[aind, j] = mu_kj\n",
    "    print('a_min completed')\n",
    "\n",
    "    # Impose state boundary condition for a_max\n",
    "    # First look at the case with mu_kFF\n",
    "    # Loop over a_max (lower edge) in the j dimension\n",
    "    aind = na-1\n",
    "    aval = aa[aind, 0]\n",
    "    for j in range(nk):\n",
    "        if I_valid[aind, j] == False:\n",
    "            kj = kk[aind, j]\n",
    "\n",
    "            # Try FF scheme\n",
    "            dVkj = dVkF[aind, j]\n",
    "\n",
    "            # Find dVaF that satisfies FOCs and a_max boundary condition\n",
    "            dVa_guess = dVaF[aind, j]\n",
    "            dVaj = boundary_dVa(dVkj, aval, kj, params)\n",
    "\n",
    "            # Compute drift and evaluate if drift is consistent with chosen fwd diff for k\n",
    "            cstar, hstar, xstar, mu_aj, mu_kj = control_drift(dVaj, dVkj, aval, kj, params)\n",
    "\n",
    "            if mu_kj>=0 and j!=nk-1:\n",
    "                # fwd diff for k is successful; FF scheme works\n",
    "                I_valid[aind, j] = True\n",
    "                I_type[aind, j] = 0\n",
    "\n",
    "                # Replace fwd diff approximation for aval at j\n",
    "                dVaF[aind, j] = dVaj\n",
    "\n",
    "                # Replace bwd diff drift values\n",
    "                mu_aFF[aind, j] = mu_aj\n",
    "                mu_kFF[aind, j] = mu_kj\n",
    "\n",
    "            # FF scheme failed; try FB scheme\n",
    "            else:\n",
    "                dVkj = dVkB[aind, j]\n",
    "                dVaj = boundary_dVa(dVkj, aval, kj, params)\n",
    "\n",
    "                cstar, hstar, xstar, mu_aj, mu_kj = control_drift(dVaj, dVkj, aval, kj, params)\n",
    "\n",
    "                if mu_kj<=0 and j!=0:\n",
    "                    # bwd diff for k is successful; BB scheme works\n",
    "                    I_valid[aind, j] = True\n",
    "                    I_type[aind, j] = 1\n",
    "\n",
    "                    # Replace bwd diff approximation for aval at j\n",
    "                    dVaB[aind, j] = dVaj\n",
    "\n",
    "                    # Replace bwd diff drift values\n",
    "                    mu_aFB[aind, j] = mu_aj\n",
    "                    mu_kFB[aind, j] = mu_kj\n",
    "    \n",
    "    print('a_max completed')\n",
    "\n",
    "    # Impose state boundary condition for k_min\n",
    "    # Loop over k_min (left edge) in the i dimension\n",
    "    kind = 0\n",
    "    kval = kk[0, kind]\n",
    "    for i in range(na):\n",
    "        if I_valid[i, kind] == False:\n",
    "            ai = aa[i, kind]\n",
    "\n",
    "            # Try FB scheme first\n",
    "            dVai = dVaF[i, kind]\n",
    "\n",
    "            # Find dVkB that satisfies FOC and k_min boundary condition\n",
    "            dVki = boundary_dVk(dVai, ai, kval, params)\n",
    "\n",
    "            cstar, hstar, xstar, mu_ai, mu_ki = control_drift(dVai, dVki, ai, kval, params)\n",
    "\n",
    "            if mu_ai>=0 and i!=na:\n",
    "                # fwd diff for a is successful; FB scheme works\n",
    "                I_valid[i, kind] = True\n",
    "                I_type[i, kind] = 1\n",
    "\n",
    "                # Replace bwd diff approximation for kmin at i\n",
    "                dVkB[i, kind] = dVki\n",
    "\n",
    "                # Replace bwd diff drift values\n",
    "                mu_aFB[i, kind] = mu_ai\n",
    "                mu_kFB[i, kind] = mu_ki\n",
    "\n",
    "            # FB scheme failed, try BB\n",
    "            else:\n",
    "                dVai = dVaB[i, kind]\n",
    "\n",
    "                # Find dVkB that satisfies FOC and k_min boundary condition\n",
    "                dVki = boundary_dVk(dVai, ai, kval, params)\n",
    "\n",
    "                # Compute drift and evaluate if drift is consistent with chosen fwd diff for a\n",
    "                cstar, hstar, xstar, mu_ai, mu_ki = control_drift(dVai, dVki, ai, kval, params)\n",
    "\n",
    "                if mu_ai<=0 and i!=0:\n",
    "                    # bwd diff for a is successful; BB scheme works\n",
    "                    I_valid[i, kind] = True\n",
    "                    I_type[i, kind] = 3\n",
    "\n",
    "                    # Replace bwd diff approximation for amax at j\n",
    "                    dVkB[i, kind] = dVki\n",
    "\n",
    "                    # Replace bwd diff drift values\n",
    "                    mu_aBB[i, kind] = mu_ai\n",
    "                    mu_kBB[i, kind] = mu_ki\n",
    "\n",
    "    print('k_min completed')\n",
    "\n",
    "    # Impose state boundary condition for k_max\n",
    "    # First look at the case with mu_aFF\n",
    "    # Loop over k_max (upper edge) in the i dimension\n",
    "    kind = nk-1\n",
    "    kval = kk[0, kind]\n",
    "    for i in range(na):\n",
    "        if I_valid[i, kind] == False:\n",
    "            ai = aa[i, kind]\n",
    "            dVai = dVaF[i, kind]\n",
    "\n",
    "            # Find dVkF that satisfies FOC and k_max boundary condition\n",
    "            dVki = boundary_dVk(dVai, ai, kval, params)\n",
    "\n",
    "            # Compute drift and evaluate if drift is consistent with chosen fwd diff for a\n",
    "            cstar, hstar, xstar, mu_ai, mu_ki = control_drift(dVai, dVki, ai, kval, params)\n",
    "\n",
    "            if mu_ai>=0 and i!=na:\n",
    "                # fwd diff for a is successful; FF scheme works\n",
    "                I_valid[i, kind] = True\n",
    "                I_type[i, kind] = 0\n",
    "\n",
    "                # Replace fwd diff approximation for kmax at i\n",
    "                dVkF[i, kind] = dVki\n",
    "\n",
    "                # Replace drift values\n",
    "                mu_aFF[i, kind] = mu_ai\n",
    "                mu_kFF[i, kind] = mu_ki\n",
    "\n",
    "            # FF scheme failed, try BF\n",
    "            else:\n",
    "                dVai = dVaB[i, kind]\n",
    "\n",
    "                # Find dVkF that satisfies FOC and k_min boundary condition\n",
    "                dVki = boundary_dVk(dVai, ai, kval, params)\n",
    "\n",
    "                # Compute drift and evaluate if drift is consistent with chosen fwd diff for a\n",
    "                cstar, hstar, xstar, mu_ai, mu_ki = control_drift(dVai, dVki, ai, kval, params)\n",
    "\n",
    "                if mu_ai<=0 and i!=0:\n",
    "                    # bwd diff for a is successful; BF scheme works\n",
    "                    I_valid[i, kind] = True\n",
    "                    I_type[i, kind] = 2\n",
    "\n",
    "                    # Replace fwd diff approximation for kmax at i\n",
    "                    dVkF[i, kind] = dVki\n",
    "\n",
    "                    # Replace bwd diff drift values\n",
    "                    mu_aBF[i, kind] = mu_ai\n",
    "                    mu_kBF[i, kind] = mu_ki\n",
    "\n",
    "    print('k_max completed')\n",
    "\n",
    "    # Construct dVa and dVk matrices\n",
    "    # If no scheme is valid, use steady-state values, i.e. stay put\n",
    "    # Note: FF is I_type == 0, FB is 2, BF is 3, BB is 4\n",
    "    dVa = (dVaF*(I_type == 0) + dVaF*(I_type == 1) + dVaB*(I_type == 2) + dVaB*(I_type == 3))*I_valid + dVa0*(~I_valid)\n",
    "    dVk = (dVkF*(I_type == 0) + dVkB*(I_type == 1) + dVkF*(I_type == 2) + dVkB*(I_type == 3))*I_valid + dVk0*(~I_valid)\n",
    "\n",
    "    # Construct policy functions and utility\n",
    "    C, H, X, mu_a_test, mu_k_test = control_drift(dVa, dVk, aa, kk, params)\n",
    "    U = u(C, c_param) + uh(H, l_param)\n",
    "\n",
    "    # Construct drift values\n",
    "    mu_a = (mu_aFF*(I_type == 0) + mu_aFB*(I_type == 1) + mu_aBF*(I_type == 2) + mu_aBB*(I_type == 3))*I_valid\n",
    "    mu_k = (mu_kFF*(I_type == 0) + mu_kFB*(I_type == 1) + mu_kBF*(I_type == 2) + mu_kBB*(I_type == 3))*I_valid\n",
    "\n",
    "    # Construct sparse diagonal matrix A\n",
    "    # Reshape mu_a using column-major (Fortran) order\n",
    "    mu_a_diag = np.reshape(mu_a, na*nk, order='F')/da\n",
    "\n",
    "    # -1 diagonal is mu_a<0, +1 diag is mu>0\n",
    "    # Shift elements forward 1 index as placement in upper diagonal in spdiags lops off the first element. Want diagonal to start with the 1st element.\n",
    "    mu_a_diag_pos = np.roll(np.clip(mu_a_diag, 0, None), 1)\n",
    "\n",
    "    # Shift elements back 1 index as placement in lower diagonal in spdiags lops off the last element. Want diagonal to start with the 2nd element.\n",
    "    mu_a_diag_neg = np.roll(-np.clip(mu_a_diag, None, 0), -1) \n",
    "\n",
    "    # Reshape mu_k using column-major (Fortran) order\n",
    "    mu_k_diag = np.reshape(mu_k, na*nk, order='F')/dk\n",
    "\n",
    "    # -na diag is mu_k < 0, +na diag is mu_k > 0\n",
    "    # Shift elements forward na index as placement in upper diagonal in spdiags lops off the first na elements. Want diagonal to start with 1st element.\n",
    "    mu_k_diag_pos = np.roll(np.clip(mu_k_diag, 0, None), na)\n",
    "\n",
    "    # Shift elements back na index as placement in lower diagonal in spdiags lops off the last na elements. Want diagonal to start with the na'th element\n",
    "    mu_k_diag_neg = np.roll(-np.clip(mu_k_diag, None, 0), -na)\n",
    "\n",
    "    # Construct main diagonal\n",
    "    main_diag = np.reshape(-np.abs(mu_a)/da - np.abs(mu_k)/dk, na*nk, order='F')\n",
    "\n",
    "    A = spdiags(np.array([mu_k_diag_neg, mu_a_diag_neg, main_diag, mu_a_diag_pos, mu_k_diag_pos]), np.array([-na, -1, 0, 1, na]), na*nk, na*nk)\n",
    "\n",
    "    # Solve set of linear equations to obtain V for current period from V of next period\n",
    "    b = np.reshape(U + V/dt, na*nk, order='F')\n",
    "    B = (1/dt + rho)*np.identity(na*nk) - A\n",
    "    V_stacked = np.linalg.solve(B, b)\n",
    "    \n",
    "    V_t[:, :, t] = copy.copy(np.reshape(V_stacked, (na, nk), order = 'F'))\n",
    "    C_t[:, :, t] = copy.copy(C)\n",
    "    H_t[:, :, t] = copy.copy(H)\n",
    "    X_t[:, :, t] = copy.copy(X)\n",
    "    U_t[:, :, t] = copy.copy(U)\n",
    "\n",
    "    mu_a_t[:, :, t] = copy.copy(mu_a)\n",
    "    mu_k_t[:, :, t] = copy.copy(mu_k)\n",
    "    dVa_t[:, :, t] = copy.copy(dVa)\n",
    "    dVk_t[:, :, t] = copy.copy(dVk)\n",
    "    I_valid_t[:, :, t] = copy.copy(I_valid)\n",
    "    I_type_t[:, :, t] = copy.copy(I_type)"
   ]
  },
  {
   "cell_type": "code",
   "execution_count": 208,
   "metadata": {},
   "outputs": [
    {
     "output_type": "execute_result",
     "data": {
      "text/plain": "nan"
     },
     "metadata": {},
     "execution_count": 208
    }
   ],
   "source": [
    "np.min(dVaF_t[:, :, nT-11])"
   ]
  },
  {
   "cell_type": "code",
   "execution_count": 209,
   "metadata": {},
   "outputs": [
    {
     "output_type": "execute_result",
     "data": {
      "text/plain": "array([0, 0, 0, 0, 0, 0, 0, 0, 0, 0, 0, 0, 0, 0, 0, 0, 0, 0, 0, 0])"
     },
     "metadata": {},
     "execution_count": 209
    }
   ],
   "source": [
    "np.sum(dVaF_t[:, :, nT-11] < 0, axis = 0)"
   ]
  },
  {
   "cell_type": "code",
   "execution_count": 210,
   "metadata": {},
   "outputs": [
    {
     "output_type": "execute_result",
     "data": {
      "text/plain": "nan"
     },
     "metadata": {},
     "execution_count": 210
    }
   ],
   "source": [
    "dVaF_t[6, 3, nT-11]"
   ]
  },
  {
   "cell_type": "code",
   "execution_count": 211,
   "metadata": {},
   "outputs": [
    {
     "output_type": "execute_result",
     "data": {
      "text/plain": "array([[0., 1., 1., 1., 1., 1., 1., 1., 1., 1., 1., 1., 1., 1., 1., 1.,\n        1., 1., 1., 1.],\n       [1., 0., 1., 1., 1., 1., 1., 1., 1., 1., 1., 1., 1., 1., 1., 1.,\n        1., 1., 1., 1.],\n       [1., 0., 1., 1., 1., 1., 1., 1., 1., 1., 1., 1., 1., 1., 1., 1.,\n        1., 1., 1., 1.],\n       [1., 0., 1., 1., 1., 1., 1., 1., 1., 1., 1., 1., 1., 1., 1., 1.,\n        1., 1., 1., 1.],\n       [1., 0., 1., 1., 1., 1., 1., 1., 1., 1., 1., 1., 1., 1., 1., 1.,\n        1., 1., 1., 1.],\n       [1., 0., 1., 1., 1., 1., 1., 1., 1., 1., 1., 1., 1., 1., 1., 1.,\n        1., 1., 1., 1.],\n       [1., 0., 1., 1., 1., 1., 1., 1., 1., 1., 1., 1., 1., 1., 1., 1.,\n        1., 1., 1., 1.],\n       [1., 0., 1., 1., 1., 1., 1., 1., 1., 1., 1., 1., 1., 1., 1., 1.,\n        1., 1., 1., 1.],\n       [1., 0., 1., 1., 1., 1., 1., 1., 1., 1., 1., 1., 1., 1., 1., 1.,\n        1., 1., 1., 1.],\n       [1., 0., 1., 1., 1., 1., 1., 1., 1., 1., 1., 1., 1., 1., 1., 1.,\n        1., 1., 1., 1.],\n       [1., 0., 1., 1., 1., 1., 1., 1., 1., 1., 1., 1., 1., 1., 1., 1.,\n        1., 1., 1., 1.],\n       [1., 0., 1., 1., 1., 1., 1., 1., 1., 1., 1., 1., 1., 1., 1., 1.,\n        1., 1., 1., 1.],\n       [1., 0., 1., 1., 1., 1., 1., 1., 1., 1., 1., 1., 1., 1., 1., 1.,\n        1., 1., 1., 1.],\n       [1., 0., 1., 1., 1., 1., 1., 1., 1., 1., 1., 1., 1., 1., 1., 1.,\n        1., 1., 1., 1.],\n       [1., 0., 1., 1., 1., 1., 1., 1., 1., 1., 1., 1., 1., 1., 1., 1.,\n        1., 1., 1., 1.],\n       [1., 0., 1., 1., 1., 1., 1., 1., 1., 1., 1., 1., 1., 1., 1., 1.,\n        1., 1., 1., 1.],\n       [1., 0., 1., 1., 1., 1., 1., 1., 1., 1., 1., 1., 1., 1., 1., 1.,\n        1., 1., 1., 1.],\n       [1., 0., 1., 1., 1., 1., 1., 1., 1., 1., 1., 1., 1., 1., 1., 1.,\n        1., 1., 1., 1.],\n       [1., 0., 1., 1., 1., 1., 1., 1., 1., 1., 1., 1., 1., 1., 1., 1.,\n        1., 1., 1., 1.],\n       [1., 0., 1., 1., 1., 1., 1., 1., 1., 1., 1., 1., 1., 1., 1., 1.,\n        1., 1., 1., 1.]])"
     },
     "metadata": {},
     "execution_count": 211
    }
   ],
   "source": [
    "I_valid_t[:, :, nT-4]"
   ]
  },
  {
   "cell_type": "code",
   "execution_count": 212,
   "metadata": {},
   "outputs": [
    {
     "output_type": "execute_result",
     "data": {
      "text/plain": "array([3., 0., 0., 0., 0., 0., 0., 0., 0., 0., 0., 0., 0., 0., 0., 0., 0.,\n       0., 0., 0.])"
     },
     "metadata": {},
     "execution_count": 212
    }
   ],
   "source": [
    "I_type_t[:, 1, nT-4]"
   ]
  },
  {
   "cell_type": "code",
   "execution_count": 213,
   "metadata": {},
   "outputs": [
    {
     "output_type": "execute_result",
     "data": {
      "text/plain": "array([1.07408286, 1.05188225, 1.03283351, 1.01661862, 1.00050613,\n       0.98515347, 0.97075481, 0.95733549, 0.94485661, 0.93325616,\n       0.9224662 , 0.91242018, 0.90305587, 0.89431634, 0.88615013,\n       0.87851088, 0.871357  , 0.86465107, 0.8583595 , 1.52076488])"
     },
     "metadata": {},
     "execution_count": 213
    }
   ],
   "source": [
    "dVkB_t[:, 1, nT-4]"
   ]
  },
  {
   "cell_type": "code",
   "execution_count": 214,
   "metadata": {},
   "outputs": [],
   "source": [
    "dVaF = dVaF_t[:, :, nT-4]\n",
    "dVaB = dVaB_t[:, :, nT-4]\n",
    "dVkF = dVkF_t[:, :, nT-4]\n",
    "dVkB = dVkB_t[:, :, nT-4]"
   ]
  },
  {
   "cell_type": "code",
   "execution_count": 215,
   "metadata": {},
   "outputs": [],
   "source": [
    "# Compute policies and drift\n",
    "cFF, hFF, xFF, mu_aFF, mu_kFF = control_drift(dVaF, dVkF, aa, kk, params)\n",
    "cFB, hFB, xFB, mu_aFB, mu_kFB = control_drift(dVaF, dVkB, aa, kk, params)\n",
    "cBF, hBF, xBF, mu_aBF, mu_kBF = control_drift(dVaB, dVkF, aa, kk, params)\n",
    "cBB, hBB, xBB, mu_aBB, mu_kBB = control_drift(dVaB, dVkB, aa, kk, params)"
   ]
  },
  {
   "cell_type": "code",
   "execution_count": 222,
   "metadata": {},
   "outputs": [
    {
     "output_type": "execute_result",
     "data": {
      "text/plain": "array([[-0.03489733,  0.19918538, -0.03963916, -0.16947368, -0.20263158,\n        -0.23578947, -0.26894737, -0.30210526, -0.33526316, -0.36842105,\n        -0.40157895, -0.43473684, -0.46789474, -0.50105263, -0.53421053,\n        -0.56736842, -0.60052632, -0.63368421, -0.66684211, -0.7       ],\n       [-0.033197  ,  0.32427962, -0.01869587, -0.16947368, -0.20263158,\n        -0.23578947, -0.26894737, -0.30210526, -0.33526316, -0.36842105,\n        -0.40157895, -0.43473684, -0.46789474, -0.50105263, -0.53421053,\n        -0.56736842, -0.60052632, -0.63368421, -0.66684211, -0.7       ],\n       [-0.03879684,  0.44051179, -0.01341497, -0.16947368, -0.20263158,\n        -0.23578947, -0.26894737, -0.30210526, -0.33526316, -0.36842105,\n        -0.40157895, -0.43473684, -0.46789474, -0.50105263, -0.53421053,\n        -0.56736842, -0.60052632, -0.63368421, -0.66684211, -0.7       ],\n       [-0.05013004,  0.54978394, -0.02577068, -0.16947368, -0.20263158,\n        -0.23578947, -0.26894737, -0.30210526, -0.33526316, -0.36842105,\n        -0.40157895, -0.43473684, -0.46789474, -0.50105263, -0.53421053,\n        -0.56736842, -0.60052632, -0.63368421, -0.66684211, -0.7       ],\n       [-0.06926772,  0.64958179, -0.04539055, -0.16947368, -0.20263158,\n        -0.23578947, -0.26894737, -0.30210526, -0.33526316, -0.36842105,\n        -0.40157895, -0.43473684, -0.46789474, -0.50105263, -0.53421053,\n        -0.56736842, -0.60052632, -0.63368421, -0.66684211, -0.7       ],\n       [-0.07      ,  0.7410262 , -0.07322324, -0.16947368, -0.20263158,\n        -0.23578947, -0.26894737, -0.30210526, -0.33526316, -0.36842105,\n        -0.40157895, -0.43473684, -0.46789474, -0.50105263, -0.53421053,\n        -0.56736842, -0.60052632, -0.63368421, -0.66684211, -0.7       ],\n       [-0.07      ,  0.82501791, -0.10990443, -0.16947368, -0.20263158,\n        -0.23578947, -0.26894737, -0.30210526, -0.33526316, -0.36842105,\n        -0.40157895, -0.43473684, -0.46789474, -0.50105263, -0.53421053,\n        -0.56736842, -0.60052632, -0.63368421, -0.66684211, -0.7       ],\n       [-0.07      ,  0.90231157, -0.13631579, -0.16947368, -0.20263158,\n        -0.23578947, -0.26894737, -0.30210526, -0.33526316, -0.36842105,\n        -0.40157895, -0.43473684, -0.46789474, -0.50105263, -0.53421053,\n        -0.56736842, -0.60052632, -0.63368421, -0.66684211, -0.7       ],\n       [-0.07      ,  0.97355591, -0.13631579, -0.16947368, -0.20263158,\n        -0.23578947, -0.26894737, -0.30210526, -0.33526316, -0.36842105,\n        -0.40157895, -0.43473684, -0.46789474, -0.50105263, -0.53421053,\n        -0.56736842, -0.60052632, -0.63368421, -0.66684211, -0.7       ],\n       [-0.07      ,  1.03931858, -0.13631579, -0.16947368, -0.20263158,\n        -0.23578947, -0.26894737, -0.30210526, -0.33526316, -0.36842105,\n        -0.40157895, -0.43473684, -0.46789474, -0.50105263, -0.53421053,\n        -0.56736842, -0.60052632, -0.63368421, -0.66684211, -0.7       ],\n       [-0.07      ,  1.10010274, -0.13631579, -0.16947368, -0.20263158,\n        -0.23578947, -0.26894737, -0.30210526, -0.33526316, -0.36842105,\n        -0.40157895, -0.43473684, -0.46789474, -0.50105263, -0.53421053,\n        -0.56736842, -0.60052632, -0.63368421, -0.66684211, -0.7       ],\n       [-0.07      ,  1.15635884, -0.13631579, -0.16947368, -0.20263158,\n        -0.23578947, -0.26894737, -0.30210526, -0.33526316, -0.36842105,\n        -0.40157895, -0.43473684, -0.46789474, -0.50105263, -0.53421053,\n        -0.56736842, -0.60052632, -0.63368421, -0.66684211, -0.7       ],\n       [-0.07      ,  1.20849332, -0.13631579, -0.16947368, -0.20263158,\n        -0.23578947, -0.26894737, -0.30210526, -0.33526316, -0.36842105,\n        -0.40157895, -0.43473684, -0.46789474, -0.50105263, -0.53421053,\n        -0.56736842, -0.60052632, -0.63368421, -0.66684211, -0.7       ],\n       [-0.07      ,  1.25687528, -0.13631579, -0.16947368, -0.20263158,\n        -0.23578947, -0.26894737, -0.30210526, -0.33526316, -0.36842105,\n        -0.40157895, -0.43473684, -0.46789474, -0.50105263, -0.53421053,\n        -0.56736842, -0.60052632, -0.63368421, -0.66684211, -0.7       ],\n       [-0.07      ,  1.30184171, -0.13631579, -0.16947368, -0.20263158,\n        -0.23578947, -0.26894737, -0.30210526, -0.33526316, -0.36842105,\n        -0.40157895, -0.43473684, -0.46789474, -0.50105263, -0.53421053,\n        -0.56736842, -0.60052632, -0.63368421, -0.66684211, -0.7       ],\n       [-0.07      ,  1.34370166, -0.13631579, -0.16947368, -0.20263158,\n        -0.23578947, -0.26894737, -0.30210526, -0.33526316, -0.36842105,\n        -0.40157895, -0.43473684, -0.46789474, -0.50105263, -0.53421053,\n        -0.56736842, -0.60052632, -0.63368421, -0.66684211, -0.7       ],\n       [-0.07      ,  1.38273967, -0.13631579, -0.16947368, -0.20263158,\n        -0.23578947, -0.26894737, -0.30210526, -0.33526316, -0.36842105,\n        -0.40157895, -0.43473684, -0.46789474, -0.50105263, -0.53421053,\n        -0.56736842, -0.60052632, -0.63368421, -0.66684211, -0.7       ],\n       [-0.07      ,  1.41921856, -0.13631579, -0.16947368, -0.20263158,\n        -0.23578947, -0.26894737, -0.30210526, -0.33526316, -0.36842105,\n        -0.40157895, -0.43473684, -0.46789474, -0.50105263, -0.53421053,\n        -0.56736842, -0.60052632, -0.63368421, -0.66684211, -0.7       ],\n       [-0.07      ,  1.45338181, -0.13631579, -0.16947368, -0.20263158,\n        -0.23578947, -0.26894737, -0.30210526, -0.33526316, -0.36842105,\n        -0.40157895, -0.43473684, -0.46789474, -0.50105263, -0.53421053,\n        -0.56736842, -0.60052632, -0.63368421, -0.66684211, -0.7       ],\n       [ 1.82096895,  4.78969388, -0.13631579, -0.16947368, -0.20263158,\n        -0.23578947, -0.26894737, -0.30210526, -0.33526316, -0.36842105,\n        -0.40157895, -0.43473684, -0.46789474, -0.50105263, -0.53421053,\n        -0.56736842, -0.60052632, -0.63368421, -0.66684211, -0.7       ]])"
     },
     "metadata": {},
     "execution_count": 222
    }
   ],
   "source": [
    "mu_kBB"
   ]
  },
  {
   "cell_type": "code",
   "execution_count": null,
   "metadata": {},
   "outputs": [],
   "source": []
  }
 ],
 "metadata": {
  "language_info": {
   "codemirror_mode": {
    "name": "ipython",
    "version": 3
   },
   "file_extension": ".py",
   "mimetype": "text/x-python",
   "name": "python",
   "nbconvert_exporter": "python",
   "pygments_lexer": "ipython3",
   "version": "3.7.7-final"
  },
  "orig_nbformat": 2,
  "kernelspec": {
   "name": "Python 3.7.7 64-bit ('base': conda)",
   "display_name": "Python 3.7.7 64-bit ('base': conda)",
   "metadata": {
    "interpreter": {
     "hash": "336c7e779adf7332296e70fba6af5c811444eb9d5a8ab056881cd8e4ba518555"
    }
   }
  }
 },
 "nbformat": 4,
 "nbformat_minor": 2
}