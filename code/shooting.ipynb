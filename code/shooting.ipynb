{
 "cells": [
  {
   "cell_type": "markdown",
   "metadata": {},
   "source": [
    "# Implement shooting method to solve for time-path of variables"
   ]
  },
  {
   "cell_type": "code",
   "execution_count": 754,
   "metadata": {},
   "outputs": [],
   "source": [
    "import numpy as np\n",
    "from scipy.optimize import fsolve"
   ]
  },
  {
   "cell_type": "code",
   "execution_count": 755,
   "metadata": {},
   "outputs": [],
   "source": [
    "# Define parameters\n",
    "rho = 0.99\n",
    "r = 0.05\n",
    "a = 1\n",
    "delta = 0.01\n",
    "alpha = 0.7\n",
    "gamma = 0.7\n",
    "sigma = 0.7\n",
    "params = (rho, r, a, delta, alpha, gamma, sigma)\n",
    "\n",
    "# Initial conditions\n",
    "K = 2\n",
    "A = 3\n",
    "mu = 0.2\n",
    "p = 0.3\n",
    "state = (K, A, mu, p)"
   ]
  },
  {
   "cell_type": "code",
   "execution_count": 756,
   "metadata": {},
   "outputs": [],
   "source": [
    "# Define g(x) and g'(x) (labor market equilibrium tradeoff) function\n",
    "def g(x):\n",
    "    k = 5/4\n",
    "    s = 1/2\n",
    "    a = 1/(k**0.5 - s)\n",
    "    y = k - (x/a + s)**2\n",
    "    \n",
    "    return y\n",
    "\n",
    "def g_prime(x):\n",
    "    k = 5/4\n",
    "    s = 1/2\n",
    "    a = 1/(k**0.5 - s)\n",
    "    y = -2*(x/a + s)/a\n",
    "    \n",
    "    return y"
   ]
  },
  {
   "cell_type": "code",
   "execution_count": 757,
   "metadata": {},
   "outputs": [],
   "source": [
    "# Define utility functions\n",
    "def u(c, params):\n",
    "    rho, r, a, delta, alpha, gamma, sigma = params # Unpack parameters\n",
    "    \n",
    "    if c == 0:\n",
    "        return -1e99\n",
    "    \n",
    "    return (c**(1-alpha))/(1-alpha)\n",
    "\n",
    "def u_prime(c, params):\n",
    "    rho, r, a, delta, alpha, gamma, sigma = params # Unpack parameters\n",
    "    \n",
    "    if c == 0:\n",
    "        return 1e99\n",
    "    \n",
    "    return c**(-alpha)\n",
    "\n",
    "def v(l, params):\n",
    "    rho, r, a, delta, alpha, gamma, sigma = params # Unpack parameters\n",
    "    \n",
    "    if l == 0:\n",
    "        return -1e99\n",
    "    \n",
    "    return (l**(1-gamma))/(1-gamma)\n",
    "\n",
    "def v_prime(l, params):\n",
    "    rho, r, a, delta, alpha, gamma, sigma = params # Unpack parameters\n",
    "    \n",
    "    if l == 0:\n",
    "        return 1e99\n",
    "    \n",
    "    return l**(-gamma)\n",
    "\n",
    "def B(A, params):\n",
    "    rho, r, a, delta, alpha, gamma, sigma = params # Unpack parameters\n",
    "    \n",
    "    if A == 0:\n",
    "        return -1e99\n",
    "    \n",
    "    return (A**(1-sigma))/(1-sigma)\n",
    "\n",
    "def B_prime(A, params):\n",
    "    rho, r, a, delta, alpha, gamma, sigma = params # Unpack parameters\n",
    "    \n",
    "    if A == 0:\n",
    "        return 1e99\n",
    "    \n",
    "    return B**(-sigma)"
   ]
  },
  {
   "cell_type": "code",
   "execution_count": 758,
   "metadata": {},
   "outputs": [],
   "source": [
    "# Define functions to compute FOCs\n",
    "# Consumption FOC\n",
    "def c_foc(state, params):\n",
    "    rho, r, a, delta, alpha, gamma, sigma = params # Unpack parameters\n",
    "    K, A, mu, p = state # Unpack state vector\n",
    "    \n",
    "    c = mu**(-1/alpha)\n",
    "    \n",
    "    return c\n",
    "\n",
    "# Leisure FOC\n",
    "def l_rhs(x, state, params):\n",
    "    rho, r, a, delta, alpha, gamma, sigma = params # Unpack parameters\n",
    "    K, A, mu, p = state # Unpack state vector\n",
    "    \n",
    "    rhs = mu*K*g(x) + p*a*K*x\n",
    "    \n",
    "    return rhs\n",
    "\n",
    "# Job choice FOC\n",
    "def x_lhs(l, x, state, params):\n",
    "    rho, r, a, delta, alpha, gamma, sigma = params # Unpack parameters\n",
    "    K, A, mu, p = state # Unpack state vector\n",
    "    \n",
    "    h = 1-l\n",
    "    lhs = h*(a*p*K + mu*K*g_prime(x))\n",
    "    \n",
    "    return lhs"
   ]
  },
  {
   "cell_type": "code",
   "execution_count": 759,
   "metadata": {},
   "outputs": [],
   "source": [
    "# Define function that checks FOCs\n",
    "def l_foc(l, x, state, params):\n",
    "    rho, r, a, delta, alpha, gamma, sigma = params # Unpack parameters\n",
    "    K, A, mu, p = state # Unpack state vector\n",
    "    \n",
    "    lhs = v_prime(l, params)\n",
    "    rhs = l_rhs(x, state, params)\n",
    "    diff = lhs - rhs\n",
    "    \n",
    "    return diff\n",
    "\n",
    "def x_foc(l, x, state, params):\n",
    "    rho, r, a, delta, alpha, gamma, sigma = params # Unpack parameters\n",
    "    K, A, mu, p = state # Unpack state vector\n",
    "    \n",
    "    lhs = x_lhs(l, x, state, params) - 0\n",
    "    \n",
    "    return lhs"
   ]
  },
  {
   "cell_type": "code",
   "execution_count": 760,
   "metadata": {},
   "outputs": [],
   "source": [
    "# Combine both FOC checkers within one function\n",
    "def lx_foc(guess, state, params):\n",
    "    rho, r, a, delta, alpha, gamma, sigma = params # Unpack parameters\n",
    "    K, A, mu, p = state # Unpack state vector\n",
    "    l, x = guess # Unpack guess vector\n",
    "    \n",
    "    res1 = l_foc(l, x, state, params) # Check FOC for l\n",
    "    res2 = x_foc(l, x, state, params) # Check FOC for x\n",
    "    \n",
    "    error = np.array([res1, res2])\n",
    "    \n",
    "    return error"
   ]
  },
  {
   "cell_type": "code",
   "execution_count": 761,
   "metadata": {},
   "outputs": [],
   "source": [
    "sol = fsolve(lx_foc, [2, 3], args = (state, params))"
   ]
  },
  {
   "cell_type": "code",
   "execution_count": 762,
   "metadata": {},
   "outputs": [],
   "source": [
    "# Define a function that solves for c, l, and x for a given mu and p from FOCs\n",
    "def foc_solve(state, params):\n",
    "    rho, r, a, delta, alpha, gamma, sigma = params # Unpack parameters\n",
    "    K, A, mu, p = state # Unpack state vector\n",
    "    \n",
    "    c = c_foc(state, params)\n",
    "    \n",
    "    # Try looking for interior solutions first\n",
    "    [l, x] = fsolve(lx_foc, [2, 3], args = (state, params))\n",
    "    \n",
    "    # Check if solutions are interior\n",
    "    if 0 < l < 1 and 0 < x < 1:\n",
    "        print(\"Interior solution obtained\")\n",
    "        return np.array([l, x])\n",
    "    \n",
    "    # If not interior, try boundary solutions for x\n",
    "    # Try x = 0\n",
    "    x = 0\n",
    "    [l] = fsolve(l_foc, [1], args = (x, state, params))\n",
    "    # Check if l is valid\n",
    "    if 0 < l < 1:\n",
    "        # Check FOC for x holds\n",
    "        check = x_lhs(l, x, state, params)\n",
    "        if check <= 0:\n",
    "            print(\"x = 0 is a valid boundary solution\")\n",
    "            return np.array([l, x])\n",
    "        \n",
    "    # If l is not valid, try x = 1\n",
    "    x = 1\n",
    "    [l] = fsolve(l_foc, [1], args = (x, state, params))\n",
    "    if 0 < l < 1:\n",
    "        # Check FOC for x holds\n",
    "        check = x_lhs(l, x, state, params)\n",
    "        if check >= 0:\n",
    "            print(\"x = 1 is a valid boundary solution\")\n",
    "            return np.array([l, x])\n",
    "    \n",
    "    # If neither x = 0 nor x = 1 are valid, return the solution l = 1\n",
    "    print(\"l = 1 is a valid boundary solution\")\n",
    "    return np.array([1, 0])"
   ]
  },
  {
   "cell_type": "code",
   "execution_count": 763,
   "metadata": {},
   "outputs": [],
   "source": [
    "# Initial conditions\n",
    "K = 0\n",
    "A = 0\n",
    "mu = 0\n",
    "p = 0\n",
    "state = (K, A, mu, p)"
   ]
  },
  {
   "cell_type": "code",
   "execution_count": 764,
   "metadata": {},
   "outputs": [
    {
     "ename": "ZeroDivisionError",
     "evalue": "0.0 cannot be raised to a negative power",
     "output_type": "error",
     "traceback": [
      "\u001b[1;31m---------------------------------------------------------------------------\u001b[0m",
      "\u001b[1;31mZeroDivisionError\u001b[0m                         Traceback (most recent call last)",
      "\u001b[1;32m<ipython-input-764-f321321de016>\u001b[0m in \u001b[0;36m<module>\u001b[1;34m\u001b[0m\n\u001b[1;32m----> 1\u001b[1;33m \u001b[1;33m[\u001b[0m\u001b[0ml\u001b[0m\u001b[1;33m,\u001b[0m \u001b[0mx\u001b[0m\u001b[1;33m]\u001b[0m \u001b[1;33m=\u001b[0m \u001b[0mfoc_solve\u001b[0m\u001b[1;33m(\u001b[0m\u001b[0mstate\u001b[0m\u001b[1;33m,\u001b[0m \u001b[0mparams\u001b[0m\u001b[1;33m)\u001b[0m\u001b[1;33m\u001b[0m\u001b[1;33m\u001b[0m\u001b[0m\n\u001b[0m",
      "\u001b[1;32m<ipython-input-762-19df8d9f4401>\u001b[0m in \u001b[0;36mfoc_solve\u001b[1;34m(state, params)\u001b[0m\n\u001b[0;32m      4\u001b[0m     \u001b[0mK\u001b[0m\u001b[1;33m,\u001b[0m \u001b[0mA\u001b[0m\u001b[1;33m,\u001b[0m \u001b[0mmu\u001b[0m\u001b[1;33m,\u001b[0m \u001b[0mp\u001b[0m \u001b[1;33m=\u001b[0m \u001b[0mstate\u001b[0m \u001b[1;31m# Unpack state vector\u001b[0m\u001b[1;33m\u001b[0m\u001b[1;33m\u001b[0m\u001b[0m\n\u001b[0;32m      5\u001b[0m \u001b[1;33m\u001b[0m\u001b[0m\n\u001b[1;32m----> 6\u001b[1;33m     \u001b[0mc\u001b[0m \u001b[1;33m=\u001b[0m \u001b[0mc_foc\u001b[0m\u001b[1;33m(\u001b[0m\u001b[0mstate\u001b[0m\u001b[1;33m,\u001b[0m \u001b[0mparams\u001b[0m\u001b[1;33m)\u001b[0m\u001b[1;33m\u001b[0m\u001b[1;33m\u001b[0m\u001b[0m\n\u001b[0m\u001b[0;32m      7\u001b[0m \u001b[1;33m\u001b[0m\u001b[0m\n\u001b[0;32m      8\u001b[0m     \u001b[1;31m# Try looking for interior solutions first\u001b[0m\u001b[1;33m\u001b[0m\u001b[1;33m\u001b[0m\u001b[1;33m\u001b[0m\u001b[0m\n",
      "\u001b[1;32m<ipython-input-758-9a0cbd10a7f0>\u001b[0m in \u001b[0;36mc_foc\u001b[1;34m(state, params)\u001b[0m\n\u001b[0;32m      5\u001b[0m     \u001b[0mK\u001b[0m\u001b[1;33m,\u001b[0m \u001b[0mA\u001b[0m\u001b[1;33m,\u001b[0m \u001b[0mmu\u001b[0m\u001b[1;33m,\u001b[0m \u001b[0mp\u001b[0m \u001b[1;33m=\u001b[0m \u001b[0mstate\u001b[0m \u001b[1;31m# Unpack state vector\u001b[0m\u001b[1;33m\u001b[0m\u001b[1;33m\u001b[0m\u001b[0m\n\u001b[0;32m      6\u001b[0m \u001b[1;33m\u001b[0m\u001b[0m\n\u001b[1;32m----> 7\u001b[1;33m     \u001b[0mc\u001b[0m \u001b[1;33m=\u001b[0m \u001b[0mmu\u001b[0m\u001b[1;33m**\u001b[0m\u001b[1;33m(\u001b[0m\u001b[1;33m-\u001b[0m\u001b[1;36m1\u001b[0m\u001b[1;33m/\u001b[0m\u001b[0malpha\u001b[0m\u001b[1;33m)\u001b[0m\u001b[1;33m\u001b[0m\u001b[1;33m\u001b[0m\u001b[0m\n\u001b[0m\u001b[0;32m      8\u001b[0m \u001b[1;33m\u001b[0m\u001b[0m\n\u001b[0;32m      9\u001b[0m     \u001b[1;32mreturn\u001b[0m \u001b[0mc\u001b[0m\u001b[1;33m\u001b[0m\u001b[1;33m\u001b[0m\u001b[0m\n",
      "\u001b[1;31mZeroDivisionError\u001b[0m: 0.0 cannot be raised to a negative power"
     ]
    }
   ],
   "source": [
    "[l, x] = foc_solve(state, params)"
   ]
  },
  {
   "cell_type": "code",
   "execution_count": null,
   "metadata": {},
   "outputs": [],
   "source": [
    "l"
   ]
  },
  {
   "cell_type": "code",
   "execution_count": null,
   "metadata": {},
   "outputs": [],
   "source": [
    "x"
   ]
  },
  {
   "cell_type": "code",
   "execution_count": null,
   "metadata": {},
   "outputs": [],
   "source": []
  }
 ],
 "metadata": {
  "kernelspec": {
   "display_name": "Python 3",
   "language": "python",
   "name": "python3"
  },
  "language_info": {
   "codemirror_mode": {
    "name": "ipython",
    "version": 3
   },
   "file_extension": ".py",
   "mimetype": "text/x-python",
   "name": "python",
   "nbconvert_exporter": "python",
   "pygments_lexer": "ipython3",
   "version": "3.7.4"
  }
 },
 "nbformat": 4,
 "nbformat_minor": 2
}
