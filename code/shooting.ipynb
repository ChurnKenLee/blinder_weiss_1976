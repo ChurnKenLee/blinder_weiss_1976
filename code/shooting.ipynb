{
 "cells": [
  {
   "cell_type": "markdown",
   "metadata": {},
   "source": [
    "# Implement shooting method to solve for time-path of variables"
   ]
  },
  {
   "cell_type": "code",
   "execution_count": 1,
   "metadata": {},
   "outputs": [],
   "source": [
    "import numpy as np\n",
    "from scipy.optimize import fsolve"
   ]
  },
  {
   "cell_type": "code",
   "execution_count": 2,
   "metadata": {},
   "outputs": [],
   "source": [
    "# Define parameters\n",
    "rho = 0.01\n",
    "r = 0.05\n",
    "a = 1\n",
    "delta = 0.05\n",
    "alpha = 0.5\n",
    "gamma = 0.5\n",
    "sigma = 0.5\n",
    "params = (rho, r, a, delta, alpha, gamma, sigma)\n",
    "\n",
    "# Initial conditions\n",
    "K_0 = 1\n",
    "A_0 = 100\n",
    "mu_0 = 1\n",
    "p_0 = 1\n",
    "state_0 = (K_0, A_0, mu_0, p_0)\n",
    "T = 20"
   ]
  },
  {
   "cell_type": "code",
   "execution_count": 3,
   "metadata": {},
   "outputs": [],
   "source": [
    "# Define g(x) and g'(x) (labor market equilibrium tradeoff) function\n",
    "def g(x):\n",
    "    k = 5/4\n",
    "    s = 1/2\n",
    "    a = 1/(k**0.5 - s)\n",
    "    y = k - (x/a + s)**2\n",
    "    \n",
    "    if y <= 0:\n",
    "        return 0\n",
    "    \n",
    "    return y\n",
    "\n",
    "def g_prime(x):\n",
    "    k = 5/4\n",
    "    s = 1/2\n",
    "    a = 1/(k**0.5 - s)\n",
    "    y = (-2*(x/a + s))/a\n",
    "    \n",
    "    return y"
   ]
  },
  {
   "cell_type": "code",
   "execution_count": 4,
   "metadata": {},
   "outputs": [],
   "source": [
    "# Define utility functions\n",
    "def u(c, params):\n",
    "    rho, r, a, delta, alpha, gamma, sigma = params # Unpack parameters\n",
    "    \n",
    "    if c <= 0:\n",
    "        return -1e999\n",
    "    \n",
    "    return (c**(1-alpha))/(1-alpha)\n",
    "\n",
    "def u_prime(c, params):\n",
    "    rho, r, a, delta, alpha, gamma, sigma = params # Unpack parameters\n",
    "    \n",
    "    if c <= 0:\n",
    "        return 1e999\n",
    "    \n",
    "    return c**(-alpha)\n",
    "\n",
    "def v(l, params):\n",
    "    rho, r, a, delta, alpha, gamma, sigma = params # Unpack parameters\n",
    "    \n",
    "    if l <= 0:\n",
    "        return -1e999\n",
    "    \n",
    "    return (l**(1-gamma))/(1-gamma)\n",
    "\n",
    "def v_prime(l, params):\n",
    "    rho, r, a, delta, alpha, gamma, sigma = params # Unpack parameters\n",
    "    \n",
    "    if l <= 0:\n",
    "        return 1e999\n",
    "    \n",
    "    return l**(-gamma)\n",
    "\n",
    "def B(A, params):\n",
    "    rho, r, a, delta, alpha, gamma, sigma = params # Unpack parameters\n",
    "    \n",
    "    if A <= 0:\n",
    "        return -1e999\n",
    "    \n",
    "    return 100*(A**(1-sigma))/(1-sigma)\n",
    "\n",
    "def B_prime(A, params):\n",
    "    rho, r, a, delta, alpha, gamma, sigma = params # Unpack parameters\n",
    "    \n",
    "    if A <= 0:\n",
    "        return 1e999\n",
    "    \n",
    "    return 100*A**(-sigma)"
   ]
  },
  {
   "cell_type": "code",
   "execution_count": 5,
   "metadata": {},
   "outputs": [],
   "source": [
    "# Define functions to compute FOCs\n",
    "# Consumption FOC\n",
    "def c_foc(state, params):\n",
    "    rho, r, a, delta, alpha, gamma, sigma = params # Unpack parameters\n",
    "    K, A, mu, p = state # Unpack state vector\n",
    "    \n",
    "    return mu**(-1/alpha)\n",
    "\n",
    "# Leisure FOC\n",
    "def l_rhs(x, state, params):\n",
    "    rho, r, a, delta, alpha, gamma, sigma = params # Unpack parameters\n",
    "    K, A, mu, p = state # Unpack state vector\n",
    "    \n",
    "    rhs = mu*K*g(x) + p*a*K*x\n",
    "    \n",
    "    return rhs\n",
    "\n",
    "# Job choice FOC\n",
    "def x_lhs(l, x, state, params):\n",
    "    rho, r, a, delta, alpha, gamma, sigma = params # Unpack parameters\n",
    "    K, A, mu, p = state # Unpack state vector\n",
    "    \n",
    "    h = 1-l\n",
    "    lhs = h*(a*p*K + mu*K*g_prime(x))\n",
    "    \n",
    "    return lhs"
   ]
  },
  {
   "cell_type": "code",
   "execution_count": 6,
   "metadata": {},
   "outputs": [],
   "source": [
    "# Define function that checks FOCs\n",
    "def l_foc(l, x, state, params):\n",
    "    rho, r, a, delta, alpha, gamma, sigma = params # Unpack parameters\n",
    "    K, A, mu, p = state # Unpack state vector\n",
    "    \n",
    "    lhs = v_prime(l, params)\n",
    "    rhs = l_rhs(x, state, params)\n",
    "    diff = lhs - rhs\n",
    "    \n",
    "    return diff\n",
    "\n",
    "def x_foc(l, x, state, params):\n",
    "    rho, r, a, delta, alpha, gamma, sigma = params # Unpack parameters\n",
    "    K, A, mu, p = state # Unpack state vector\n",
    "    \n",
    "    diff = x_lhs(l, x, state, params) - 0\n",
    "    \n",
    "    return diff"
   ]
  },
  {
   "cell_type": "code",
   "execution_count": 7,
   "metadata": {},
   "outputs": [],
   "source": [
    "# Combine both FOC checkers within one function\n",
    "def lx_foc(guess, state, params):\n",
    "    rho, r, a, delta, alpha, gamma, sigma = params # Unpack parameters\n",
    "    K, A, mu, p = state # Unpack state vector\n",
    "    l, x = guess\n",
    "    \n",
    "    res1 = l_foc(l, x, state, params) # Check FOC for l\n",
    "    res2 = x_foc(l, x, state, params) # Check FOC for x\n",
    "    \n",
    "    error = np.array([res1, res2])\n",
    "    \n",
    "    return error"
   ]
  },
  {
   "cell_type": "code",
   "execution_count": 8,
   "metadata": {},
   "outputs": [],
   "source": [
    "# Define a function that solves for l and x for a given mu and p from FOCs\n",
    "def foc_solve(state, params):\n",
    "    rho, r, a, delta, alpha, gamma, sigma = params # Unpack parameters\n",
    "    K, A, mu, p = state # Unpack state vector\n",
    "    \n",
    "    # Find c first\n",
    "    c = c_foc(state, params)\n",
    "    \n",
    "    # Try looking for interior solutions first\n",
    "    [l, x] = fsolve(lx_foc, [0.5, 0.5], args = (state, params))\n",
    "    \n",
    "    # Check if solutions are interior\n",
    "    if 0 < l < 1 and 0 < x < 1:\n",
    "        #print(\"Interior solution obtained\")\n",
    "        return np.array([l, x, c])\n",
    "    \n",
    "    # If not interior, try boundary solutions for x\n",
    "    # Try x = 0\n",
    "    x = 0\n",
    "    [l] = fsolve(l_foc, [0.5], args = (x, state, params))\n",
    "    # Check if l is valid\n",
    "    if 0 < l < 1:\n",
    "        # Check FOC for x holds\n",
    "        check = x_lhs(l, x, state, params)\n",
    "        if check <= 0:\n",
    "            #print(\"x = 0 is a valid boundary solution\")\n",
    "            return np.array([l, x, c])\n",
    "        \n",
    "    # If l is not valid, try x = 1\n",
    "    x = 1\n",
    "    [l] = fsolve(l_foc, [0.5], args = (x, state, params))\n",
    "    if 0 < l < 1:\n",
    "        # Check FOC for x holds\n",
    "        check = x_lhs(l, x, state, params)\n",
    "        if check >= 0:\n",
    "            #print(\"x = 1 is a valid boundary solution\")\n",
    "            return np.array([l, x, c])\n",
    "    \n",
    "    # If neither x = 0 nor x = 1 are valid, check the solution l = 1 (x can be anything)\n",
    "    l = 1\n",
    "    x = 1\n",
    "    check = l_foc(l, x, state, params)\n",
    "    if check >= 0:\n",
    "        #print(\"l = 1 is a valid boundary solution\")\n",
    "        return np.array([l, x, c])\n",
    "    else:\n",
    "        print(\"No valid solution???\")"
   ]
  },
  {
   "cell_type": "code",
   "execution_count": 9,
   "metadata": {},
   "outputs": [],
   "source": [
    "# Define functions that produce state tomorrow given today's solution\n",
    "def state_iterate(choice, state, params):\n",
    "    rho, r, a, delta, alpha, gamma, sigma = params # Unpack parameters\n",
    "    K, A, mu, p = state # Unpack state vector\n",
    "    l, x, c = choice\n",
    "    \n",
    "    h = 1 - l\n",
    "    mu_1 = (1 + rho - r)*mu\n",
    "    p_1 = p*(1 + rho + delta - a*x*h) - g(x)*h*mu\n",
    "    A_1 = (1 + r)*A + g(x)*h*K - c\n",
    "    K_1 = (1 + a*x*h - delta)*K\n",
    "    \n",
    "    return np.array([K_1, A_1, mu_1, p_1])"
   ]
  },
  {
   "cell_type": "code",
   "execution_count": 10,
   "metadata": {},
   "outputs": [],
   "source": [
    "def iterate(state_0, T, params):\n",
    "    # Define arrays to store results\n",
    "    choice_path = np.zeros((3, T))\n",
    "    state_path = np.zeros((4, T+1))\n",
    "\n",
    "    state_path[:, 0] = state_0\n",
    "\n",
    "    # Try iterating forward in time given initial conditions\n",
    "    for t in range(T):\n",
    "        choice_path[:, t] = foc_solve(state_path[:, t], params) # Find choice today given state today\n",
    "        state_path[:, t+1] = state_iterate(choice_path[:, t], state_path[:, t], params) # Given choice today, find next state\n",
    "        \n",
    "    return (choice_path, state_path)"
   ]
  },
  {
   "cell_type": "code",
   "execution_count": 11,
   "metadata": {},
   "outputs": [],
   "source": [
    "def terminal_condition(guess, K_0, A_0, T, params):\n",
    "    rho, r, a, delta, alpha, gamma, sigma = params # Unpack parameters\n",
    "    mu, p = guess # Unpack guess\n",
    "    state_0 = [K_0, A_0, mu, p]\n",
    "    choice_path, state_path = iterate(state_0, T, params) # Iterate forward to get terminal state\n",
    "    \n",
    "    K_T, A_T, mu_T, p_T = state_path[:, -2] # Unpack terminal state\n",
    "    \n",
    "    # Evaluate terminal condition\n",
    "    err1 = K_T*p_T\n",
    "    err2 = mu_T - B_prime(A_T, params)\n",
    "    \n",
    "    print(f\"err1 = {err1}, err2 = {err2}\")\n",
    "    \n",
    "    return np.array([err1, err2])"
   ]
  },
  {
   "cell_type": "code",
   "execution_count": 12,
   "metadata": {},
   "outputs": [
    {
     "output_type": "stream",
     "name": "stdout",
     "text": "err1 = 0.9601512402143622, err2 = -6.782379622711732\nerr1 = 0.9601512402143622, err2 = -6.782379622711732\nerr1 = 0.9601512402143622, err2 = -6.782379622711732\nerr1 = 0.960151209615314, err2 = -6.782379579406219\nerr1 = 0.9601512377788669, err2 = -6.782379621994645\nerr1 = -37.96629168963486, err2 = -4.544880762506606\nerr1 = -7.691292362989523, err2 = -5.737706565973599\nerr1 = 0.960151209615314, err2 = -6.782379579406219\nerr1 = 0.9601512377788669, err2 = -6.782379621994645\nerr1 = -37.96629168963486, err2 = -4.544880762506606\nerr1 = -7.691292362989523, err2 = -5.737706565973599\nerr1 = -6.330482223745463, err2 = -6.372854727133106\nerr1 = -6.20706508788248, err2 = -6.1878215555799025\nerr1 = -3.3313339946195235, err2 = -6.630596645048826\nerr1 = -0.8338698306609915, err2 = -6.517011217992589\nerr1 = -8.859060600112448, err2 = -6.1268164471028665\nerr1 = 0.3031069005404361, err2 = -6.475795144022659\nerr1 = -3.0485412601627826, err2 = -6.22833781412556\nerr1 = -1.6133813355181599, err2 = -6.36565733096114\nerr1 = 0.30310683631349594, err2 = -6.475795109268843\nerr1 = 0.30310690989324557, err2 = -6.475795144022659\nerr1 = -0.2815829978692213, err2 = -6.386153928306741\nerr1 = -0.2144989086911114, err2 = -6.2701729782647\nerr1 = -0.19021906646613398, err2 = -6.060957280429096\nerr1 = -0.27179186179869885, err2 = -5.758644602225839\nerr1 = -3.985822230957164, err2 = -5.286149880701036\nerr1 = -0.6353672694014949, err2 = -5.548178516445618\nerr1 = -7.069834982988206, err2 = -5.175023155865942\nerr1 = -0.3151382081426065, err2 = -5.608202994748626\nerr1 = -0.6353673495722658, err2 = -5.548178495744773\nerr1 = -0.6353672450920954, err2 = -5.548178516445618\nerr1 = -2.82851861719271, err2 = -5.447788952007334\nerr1 = -5.764483002498555, err2 = -5.466163569782316\nerr1 = -6.089959916762272, err2 = -5.44621638088794\nerr1 = -3.326073734770181, err2 = -5.508939071524986\nerr1 = -7.524911815496953, err2 = -5.443415880863087\nerr1 = -6.303380445420446, err2 = -5.462502748034359\nerr1 = -6.247678634125395, err2 = -5.464685615788204\nerr1 = -0.6416019149985909, err2 = -5.547594128403743\n"
    }
   ],
   "source": [
    "[mu_sol, p_sol] = fsolve(terminal_condition, [mu_0, p_0], args=(K_0, A_0, T, params), maxfev=999999, xtol = 1e-16)"
   ]
  },
  {
   "cell_type": "code",
   "execution_count": 13,
   "metadata": {},
   "outputs": [],
   "source": [
    "state_sol = [K_0, A_0, mu_sol, p_sol]"
   ]
  },
  {
   "cell_type": "code",
   "execution_count": 14,
   "metadata": {},
   "outputs": [],
   "source": [
    "[choice_path, state_path] = iterate(state_sol, T, params)"
   ]
  },
  {
   "cell_type": "code",
   "execution_count": 15,
   "metadata": {
    "scrolled": true
   },
   "outputs": [
    {
     "output_type": "execute_result",
     "data": {
      "text/plain": "array([0.5       , 1.        , 1.        , 0.27490923, 1.        ,\n       1.        , 1.        , 1.        , 1.        , 1.        ,\n       0.99830117, 1.        , 1.        , 1.        , 1.        ,\n       1.        , 1.        , 1.        , 1.        , 1.        ])"
     },
     "metadata": {},
     "execution_count": 15
    }
   ],
   "source": [
    "choice_path[0,:]"
   ]
  },
  {
   "cell_type": "code",
   "execution_count": 16,
   "metadata": {},
   "outputs": [
    {
     "output_type": "execute_result",
     "data": {
      "text/plain": "array([0.5       , 0.8835886 , 0.86985741, 0.        , 0.38839046,\n       0.33365981, 0.27494991, 0.21221733, 0.14549367, 0.07490632,\n       0.        , 1.        , 1.        , 1.        , 1.        ,\n       1.        , 1.        , 1.        , 1.        , 1.        ])"
     },
     "metadata": {},
     "execution_count": 16
    }
   ],
   "source": [
    "choice_path[1,:]"
   ]
  },
  {
   "cell_type": "code",
   "execution_count": 17,
   "metadata": {},
   "outputs": [
    {
     "output_type": "execute_result",
     "data": {
      "text/plain": "array([0.25239086, 0.27386161, 0.29715887, 0.32243801, 0.34986763,\n       0.37963067, 0.41192564, 0.44696793, 0.48499124, 0.52624918,\n       0.57101691, 0.619593  , 0.67230143, 0.72949374, 0.79155136,\n       0.8588882 , 0.93195334, 1.01123409, 1.09725922, 1.19060245])"
     },
     "metadata": {},
     "execution_count": 17
    }
   ],
   "source": [
    "choice_path[2,:]"
   ]
  },
  {
   "cell_type": "code",
   "execution_count": 18,
   "metadata": {},
   "outputs": [
    {
     "output_type": "execute_result",
     "data": {
      "text/plain": "array([1.        , 1.2       , 1.14      , 1.083     , 1.02885   ,\n       0.9774075 , 0.92853713, 0.88211027, 0.83800476, 0.79610452,\n       0.75629929, 0.71848433, 0.68256011, 0.64843211, 0.6160105 ,\n       0.58520997, 0.55594948, 0.528152  , 0.5017444 , 0.47665718,\n       0.45282432])"
     },
     "metadata": {},
     "execution_count": 18
    }
   ],
   "source": [
    "state_path[0,:]"
   ]
  },
  {
   "cell_type": "code",
   "execution_count": 19,
   "metadata": {},
   "outputs": [
    {
     "output_type": "execute_result",
     "data": {
      "text/plain": "array([100.        , 105.04535489, 110.02376102, 115.22779021,\n       121.45201502, 127.17474814, 133.15385487, 139.39962197,\n       145.92263514, 152.73377565, 159.84421525, 167.26669394,\n       175.01043564, 183.08865599, 191.51359505, 200.29772344,\n       209.45372142, 218.99445415, 228.93294276, 239.28233068,\n       250.05584477])"
     },
     "metadata": {},
     "execution_count": 19
    }
   ],
   "source": [
    "state_path[1,:]"
   ]
  },
  {
   "cell_type": "markdown",
   "metadata": {
    "scrolled": true
   },
   "source": [
    "# Perform grid search instead\n",
    "n = 50\n",
    "mu_grid = np.linspace(-100, 100, num = n)\n",
    "p_grid = np.linspace(-100, 100, num = n)\n",
    "err1_grid = np.zeros((n, n))\n",
    "err2_grid = np.zeros((n, n))\n",
    "\n",
    "for i, mu in np.ndenumerate(mu_grid):\n",
    "    for j, p in np.ndenumerate(p_grid):\n",
    "        err1_grid[i, j], err2_grid[i, j] = terminal_condition([mu, p], K_0, A_0, T, params)\n",
    "        print(f\"i = {i}, j = {j}\")"
   ]
  },
  {
   "cell_type": "markdown",
   "metadata": {},
   "source": [
    "err1_grid_abs = np.absolute(err1_grid)\n",
    "err2_grid_abs = np.absolute(err2_grid)\n",
    "err1_ind = np.unravel_index(np.argmin(err1_grid_abs), err1_grid.shape) \n",
    "err2_ind = np.unravel_index(np.argmin(err2_grid_abs), err2_grid.shape) "
   ]
  }
 ],
 "metadata": {
  "kernelspec": {
   "display_name": "Python 3",
   "language": "python",
   "name": "python3"
  },
  "language_info": {
   "codemirror_mode": {
    "name": "ipython",
    "version": 3
   },
   "file_extension": ".py",
   "mimetype": "text/x-python",
   "name": "python",
   "nbconvert_exporter": "python",
   "pygments_lexer": "ipython3",
   "version": "3.7.6-final"
  }
 },
 "nbformat": 4,
 "nbformat_minor": 2
}