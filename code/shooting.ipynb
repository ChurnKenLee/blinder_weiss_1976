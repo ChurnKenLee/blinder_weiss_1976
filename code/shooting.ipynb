{
 "cells": [
  {
   "cell_type": "markdown",
   "metadata": {},
   "source": [
    "# Implement shooting method to solve for time-path of variables"
   ]
  },
  {
   "cell_type": "code",
   "execution_count": 58,
   "metadata": {},
   "outputs": [],
   "source": [
    "import numpy as np\n",
    "from scipy.optimize import fsolve"
   ]
  },
  {
   "cell_type": "code",
   "execution_count": 59,
   "metadata": {},
   "outputs": [],
   "source": [
    "# Define parameters\n",
    "rho = 0.99\n",
    "r = 0.05\n",
    "a = 1\n",
    "delta = 0.01\n",
    "alpha = 0.7\n",
    "gamma = 0.7\n",
    "sigma = 0.7\n",
    "params = (rho, r, a, delta, alpha, gamma, sigma)\n",
    "\n",
    "# Initial conditions\n",
    "K_0 = 2\n",
    "A_0 = 3\n",
    "mu_0 = 0.2\n",
    "p_0 = 0.3\n",
    "state_0 = (K_0, A_0, mu_0, p_0)"
   ]
  },
  {
   "cell_type": "code",
   "execution_count": 60,
   "metadata": {},
   "outputs": [],
   "source": [
    "# Define g(x) and g'(x) (labor market equilibrium tradeoff) function\n",
    "def g(x):\n",
    "    k = 5/4\n",
    "    s = 1/2\n",
    "    a = 1/(k**0.5 - s)\n",
    "    y = k - (x/a + s)**2\n",
    "    \n",
    "    return y\n",
    "\n",
    "def g_prime(x):\n",
    "    k = 5/4\n",
    "    s = 1/2\n",
    "    a = 1/(k**0.5 - s)\n",
    "    y = -2*(x/a + s)/a\n",
    "    \n",
    "    return y"
   ]
  },
  {
   "cell_type": "code",
   "execution_count": 61,
   "metadata": {},
   "outputs": [],
   "source": [
    "# Define utility functions\n",
    "def u(c, params):\n",
    "    rho, r, a, delta, alpha, gamma, sigma = params # Unpack parameters\n",
    "    \n",
    "    return (c**(1-alpha))/(1-alpha)\n",
    "\n",
    "def u_prime(c, params):\n",
    "    rho, r, a, delta, alpha, gamma, sigma = params # Unpack parameters\n",
    "    \n",
    "    return c**(-alpha)\n",
    "\n",
    "def v(l, params):\n",
    "    rho, r, a, delta, alpha, gamma, sigma = params # Unpack parameters\n",
    "    \n",
    "    return (l**(1-gamma))/(1-gamma)\n",
    "\n",
    "def v_prime(l, params):\n",
    "    rho, r, a, delta, alpha, gamma, sigma = params # Unpack parameters\n",
    "    \n",
    "    return l**(-gamma)\n",
    "\n",
    "def B(A, params):\n",
    "    rho, r, a, delta, alpha, gamma, sigma = params # Unpack parameters\n",
    "    \n",
    "    return (A**(1-sigma))/(1-sigma)\n",
    "\n",
    "def B_prime(A, params):\n",
    "    rho, r, a, delta, alpha, gamma, sigma = params # Unpack parameters\n",
    "    \n",
    "    return B**(-sigma)"
   ]
  },
  {
   "cell_type": "code",
   "execution_count": 62,
   "metadata": {},
   "outputs": [],
   "source": [
    "# Define functions to compute FOCs\n",
    "# Consumption FOC\n",
    "def c_foc(state, params):\n",
    "    rho, r, a, delta, alpha, gamma, sigma = params # Unpack parameters\n",
    "    K, A, mu, p = state # Unpack state vector\n",
    "    \n",
    "    return mu**(-1/alpha)\n",
    "\n",
    "# Leisure FOC\n",
    "def l_rhs(x, state, params):\n",
    "    rho, r, a, delta, alpha, gamma, sigma = params # Unpack parameters\n",
    "    K, A, mu, p = state # Unpack state vector\n",
    "    \n",
    "    rhs = mu*K*g(x) + p*a*K*x\n",
    "    \n",
    "    return rhs\n",
    "\n",
    "# Job choice FOC\n",
    "def x_lhs(l, x, state, params):\n",
    "    rho, r, a, delta, alpha, gamma, sigma = params # Unpack parameters\n",
    "    K, A, mu, p = state # Unpack state vector\n",
    "    \n",
    "    h = 1-l\n",
    "    lhs = h*(a*p*K + mu*K*g_prime(x))\n",
    "    \n",
    "    return lhs"
   ]
  },
  {
   "cell_type": "code",
   "execution_count": 63,
   "metadata": {},
   "outputs": [],
   "source": [
    "# Define function that checks FOCs\n",
    "def l_foc(l, x, state, params):\n",
    "    rho, r, a, delta, alpha, gamma, sigma = params # Unpack parameters\n",
    "    K, A, mu, p = state # Unpack state vector\n",
    "    \n",
    "    lhs = v_prime(l, params)\n",
    "    rhs = l_rhs(x, state, params)\n",
    "    diff = lhs - rhs\n",
    "    \n",
    "    return diff\n",
    "\n",
    "def x_foc(l, x, state, params):\n",
    "    rho, r, a, delta, alpha, gamma, sigma = params # Unpack parameters\n",
    "    K, A, mu, p = state # Unpack state vector\n",
    "    \n",
    "    diff = x_lhs(l, x, state, params) - 0\n",
    "    \n",
    "    return diff"
   ]
  },
  {
   "cell_type": "code",
   "execution_count": 64,
   "metadata": {},
   "outputs": [],
   "source": [
    "# Combine both FOC checkers within one function\n",
    "def lx_foc(guess, state, params):\n",
    "    rho, r, a, delta, alpha, gamma, sigma = params # Unpack parameters\n",
    "    K, A, mu, p = state # Unpack state vector\n",
    "    l, x = guess\n",
    "    \n",
    "    res1 = l_foc(l, x, state, params) # Check FOC for l\n",
    "    res2 = x_foc(l, x, state, params) # Check FOC for x\n",
    "    \n",
    "    error = np.array([res1, res2])\n",
    "    \n",
    "    return error"
   ]
  },
  {
   "cell_type": "code",
   "execution_count": 65,
   "metadata": {},
   "outputs": [],
   "source": [
    "# Define a function that solves for l and x for a given mu and p from FOCs\n",
    "def foc_solve(state, params):\n",
    "    rho, r, a, delta, alpha, gamma, sigma = params # Unpack parameters\n",
    "    K, A, mu, p = state # Unpack state vector\n",
    "    \n",
    "    # Find c first\n",
    "    c = c_foc(state, params)\n",
    "    \n",
    "    # Try looking for interior solutions first\n",
    "    [l, x] = fsolve(lx_foc, [0.5, 0.5], args = (state, params))\n",
    "    \n",
    "    # Check if solutions are interior\n",
    "    if 0 < l < 1 and 0 < x < 1:\n",
    "        print(\"Interior solution obtained\")\n",
    "        return np.array([l, x, c])\n",
    "    \n",
    "    # If not interior, try boundary solutions for x\n",
    "    # Try x = 0\n",
    "    x = 0\n",
    "    [l] = fsolve(l_foc, [0.5], args = (x, state, params))\n",
    "    # Check if l is valid\n",
    "    if 0 < l < 1:\n",
    "        # Check FOC for x holds\n",
    "        check = x_lhs(l, x, state, params)\n",
    "        if check <= 0:\n",
    "            print(\"x = 0 is a valid boundary solution\")\n",
    "            return np.array([l, x, c])\n",
    "        \n",
    "    # If l is not valid, try x = 1\n",
    "    x = 1\n",
    "    [l] = fsolve(l_foc, [0.5], args = (x, state, params))\n",
    "    if 0 < l < 1:\n",
    "        # Check FOC for x holds\n",
    "        check = x_lhs(l, x, state, params)\n",
    "        if check >= 0:\n",
    "            print(\"x = 1 is a valid boundary solution\")\n",
    "            return np.array([l, x, c])\n",
    "    \n",
    "    # If neither x = 0 nor x = 1 are valid, check the solution l = 1 (x can be anything)\n",
    "    l = 1\n",
    "    x = 1\n",
    "    check = l_foc(l, x, state, params)\n",
    "    if check >= 0:\n",
    "        print(\"l = 1 is a valid boundary solution\")\n",
    "        return np.array([l, x, c])\n",
    "    else:\n",
    "        print(\"No valid solution???\")"
   ]
  },
  {
   "cell_type": "code",
   "execution_count": 66,
   "metadata": {},
   "outputs": [
    {
     "name": "stdout",
     "output_type": "stream",
     "text": [
      "l = 1 is a valid boundary solution\n"
     ]
    },
    {
     "data": {
      "text/plain": [
       "array([1.        , 1.        , 9.96617658])"
      ]
     },
     "execution_count": 66,
     "metadata": {},
     "output_type": "execute_result"
    }
   ],
   "source": [
    "foc_solve(state_0, params)"
   ]
  },
  {
   "cell_type": "code",
   "execution_count": 67,
   "metadata": {},
   "outputs": [],
   "source": [
    "# Define functions that produce state tomorrow given today's solution\n",
    "def state_iterate(choice, state, params):\n",
    "    rho, r, a, delta, alpha, gamma, sigma = params # Unpack parameters\n",
    "    K, A, mu, p = state # Unpack state vector\n",
    "    l, x, c = choice\n",
    "    \n",
    "    h = 1 - l\n",
    "    mu_1 = (1 + rho - r)*mu\n",
    "    p_1 = p*(1 + rho + delta - a*x*h) - g(x)*h*mu\n",
    "    A_1 = (1 + r)*A + g(x)*h*K - c\n",
    "    K_1 = (1 + a*x*h - delta)*K\n",
    "    \n",
    "    return np.array([K_1, A_1, mu_1, p_1])"
   ]
  },
  {
   "cell_type": "code",
   "execution_count": 68,
   "metadata": {},
   "outputs": [
    {
     "name": "stdout",
     "output_type": "stream",
     "text": [
      "l = 1 is a valid boundary solution\n",
      "x = 1 is a valid boundary solution\n",
      "Interior solution obtained\n",
      "Interior solution obtained\n",
      "Interior solution obtained\n",
      "Interior solution obtained\n",
      "x = 0 is a valid boundary solution\n",
      "x = 0 is a valid boundary solution\n",
      "x = 0 is a valid boundary solution\n",
      "Interior solution obtained\n"
     ]
    },
    {
     "name": "stderr",
     "output_type": "stream",
     "text": [
      "C:\\Users\\churn\\Utilities\\Anaconda3\\lib\\site-packages\\ipykernel_launcher.py:20: RuntimeWarning: invalid value encountered in double_scalars\n",
      "C:\\Users\\churn\\Utilities\\Anaconda3\\lib\\site-packages\\scipy\\optimize\\minpack.py:162: RuntimeWarning: The iteration is not making good progress, as measured by the \n",
      "  improvement from the last ten iterations.\n",
      "  warnings.warn(msg, RuntimeWarning)\n",
      "C:\\Users\\churn\\Utilities\\Anaconda3\\lib\\site-packages\\ipykernel_launcher.py:20: RuntimeWarning: invalid value encountered in power\n"
     ]
    }
   ],
   "source": [
    "T = 10\n",
    "# Define arrays to store results\n",
    "choice_path = np.zeros((3, T))\n",
    "state_path = np.zeros((4, T+1))\n",
    "\n",
    "state_path[:,0] = state_0\n",
    "\n",
    "# Try iterating forward in time given initial conditions\n",
    "for i in range(T):\n",
    "    state = state_path[:, i]\n",
    "    choice = foc_solve(state, params)\n",
    "    choice_path[:,i] = choice\n",
    "    \n",
    "    state_path[:, i+1] = state_iterate(choice, state, params)"
   ]
  },
  {
   "cell_type": "code",
   "execution_count": 70,
   "metadata": {},
   "outputs": [
    {
     "data": {
      "text/plain": [
       "array([[1.00000000e+00, 7.81842673e-01, 5.00000000e-01, 5.00000000e-01,\n",
       "        5.00000000e-01, 5.00000000e-01, 5.00000000e-01, 5.00000000e-01,\n",
       "        5.00000000e-01, 1.00000000e+00],\n",
       "       [1.00000000e+00, 1.00000000e+00, 5.00000000e-01, 5.00000000e-01,\n",
       "        5.00000000e-01, 5.00000000e-01, 0.00000000e+00, 0.00000000e+00,\n",
       "        0.00000000e+00, 7.87993379e-01],\n",
       "       [9.96617658e+00, 3.86708082e+00, 1.50050664e+00, 5.82227336e-01,\n",
       "        2.25916142e-01, 8.76600947e-02, 3.40139138e-02, 1.31980959e-02,\n",
       "        5.12113176e-03, 1.98710411e-03]])"
      ]
     },
     "execution_count": 70,
     "metadata": {},
     "output_type": "execute_result"
    }
   ],
   "source": [
    "choice_path"
   ]
  },
  {
   "cell_type": "code",
   "execution_count": null,
   "metadata": {},
   "outputs": [],
   "source": [
    "def terminal_condition(state, params):\n",
    "    "
   ]
  }
 ],
 "metadata": {
  "kernelspec": {
   "display_name": "Python 3",
   "language": "python",
   "name": "python3"
  },
  "language_info": {
   "codemirror_mode": {
    "name": "ipython",
    "version": 3
   },
   "file_extension": ".py",
   "mimetype": "text/x-python",
   "name": "python",
   "nbconvert_exporter": "python",
   "pygments_lexer": "ipython3",
   "version": "3.7.4"
  }
 },
 "nbformat": 4,
 "nbformat_minor": 2
}
