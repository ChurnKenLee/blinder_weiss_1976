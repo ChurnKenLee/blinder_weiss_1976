{
 "cells": [
  {
   "cell_type": "markdown",
   "metadata": {},
   "source": [
    "# Try shooting method again"
   ]
  },
  {
   "cell_type": "code",
   "execution_count": 131,
   "metadata": {},
   "outputs": [],
   "source": [
    "import numpy as np\n",
    "import matplotlib.pyplot as plt\n",
    "from scipy.optimize import fsolve"
   ]
  },
  {
   "cell_type": "markdown",
   "metadata": {},
   "source": [
    "Labor market tradeoff function"
   ]
  },
  {
   "cell_type": "code",
   "execution_count": 132,
   "metadata": {},
   "outputs": [],
   "source": [
    "# Define g(x) and g'(x) (labor market equilibrium tradeoff) function\n",
    "\n",
    "def g(x):\n",
    "    y = 1.25 - (x*(1.25**0.5 - 0.5) + 0.5)**2\n",
    "    \n",
    "    if y <= 0:\n",
    "        return 0\n",
    "    \n",
    "    return y\n",
    "\n",
    "def g_prime(x):\n",
    "    y = - 2*(x*(1.25**0.5 - 0.5) + 0.5)*(1.25**0.5 - 0.5)\n",
    "    \n",
    "    return y"
   ]
  },
  {
   "cell_type": "code",
   "execution_count": 133,
   "metadata": {},
   "outputs": [],
   "source": [
    "# Evaluate derivative at corners\n",
    "g_prime_0 = g_prime(0)\n",
    "g_prime_1 = g_prime(1)"
   ]
  },
  {
   "cell_type": "markdown",
   "metadata": {},
   "source": [
    "Set parameters"
   ]
  },
  {
   "cell_type": "code",
   "execution_count": 134,
   "metadata": {},
   "outputs": [],
   "source": [
    "# Parameters\n",
    "rho = 0.03\n",
    "r = 0.05\n",
    "a = 1\n",
    "delta = 0.05\n",
    "c1 = 0.5\n",
    "l1 = 0.5\n",
    "A1 = 0.5\n",
    "params = (rho, r, a, delta, c1, l1, A1)\n",
    "\n",
    "T = 70"
   ]
  },
  {
   "cell_type": "markdown",
   "metadata": {},
   "source": [
    "Utility functions and derivatives"
   ]
  },
  {
   "cell_type": "code",
   "execution_count": 135,
   "metadata": {},
   "outputs": [],
   "source": [
    "# Define utility functions\n",
    "def U(c, c1):\n",
    "    u = (c**c1)/c1\n",
    "    return u\n",
    "\n",
    "def U_prime(c, c1):\n",
    "    u_prime = c**(c1 - 1)\n",
    "    return u_prime\n",
    "\n",
    "def L(l, l1):\n",
    "    u = (l**l1)/l1\n",
    "    return u\n",
    "\n",
    "def L_prime(l, l1):\n",
    "    u_prime = l**(l1 - 1)\n",
    "    return u_prime\n",
    "\n",
    "def B(A, A1):\n",
    "    u = (A**A1)/A1\n",
    "    return u\n",
    "\n",
    "def B_prime(A, A1):\n",
    "    u_prime = A**(A1 - 1)\n",
    "    return u_prime"
   ]
  },
  {
   "cell_type": "markdown",
   "metadata": {},
   "source": [
    "Define a function that produces K1, A1, mu1, p1, c, l, and x, given initial values K0, A0, mu0, p0"
   ]
  },
  {
   "cell_type": "code",
   "execution_count": 136,
   "metadata": {},
   "outputs": [],
   "source": [
    "def simulate(K0, A0, mu0, p0):\n",
    "    # rho and r pins down evolution of mu\n",
    "    mu1 = mu0*(rho - r) + mu0\n",
    "\n",
    "    # Value of mu pins down value of c\n",
    "    c = mu0**(1/(c1-1))\n",
    "\n",
    "    # Check for retirement\n",
    "    x_test = np.linspace(0, 1, 100)\n",
    "    mc_leisure = np.zeros(100)\n",
    "    for i, x in enumerate(x_test):\n",
    "        mc_leisure[i] = mu0*K0*g(x) + a*p0*K0*x\n",
    "\n",
    "    if np.amax(mc_leisure) > 1:\n",
    "        retirement = False\n",
    "    else:\n",
    "        retirement = True\n",
    "\n",
    "    # If non-retired, then need to compute value of x and l\n",
    "    # Check corners\n",
    "    # x = 0 corner (no investment in human capital)\n",
    "    if a*p0*K0 + mu0*K0*g_prime_0 < 0:\n",
    "        no_learning = True\n",
    "    else:\n",
    "        no_learning = False\n",
    "\n",
    "    # x = 1 corner (in school)\n",
    "    if a*p0*K0 + mu0*K0*g_prime_1 > 0:\n",
    "        in_school = True\n",
    "    else:\n",
    "        in_school = False\n",
    "\n",
    "    # Evaluate at interior if not at corner; otherwise use corner values\n",
    "    if no_learning == False and in_school == False:\n",
    "        interior_x = True\n",
    "    else:\n",
    "        interior_x = False\n",
    "\n",
    "    # Compute value of l if x is at corner\n",
    "    if interior_x == False:\n",
    "        if in_school == True: # in school means x = 1\n",
    "            l = (a*p0*K0)**(1/(l1-1))\n",
    "            x = 1\n",
    "        \n",
    "        if no_learning == True: # no learning means x = 0\n",
    "            l = (mu0*K0)**(1/(l1-1))\n",
    "            x = 0\n",
    "\n",
    "    # If l and x are interior, the values of p and mu pins down x, which then determines l\n",
    "    if interior_x == True:\n",
    "        x = ((a*p0/mu0)/(2*(1.25**0.5 - 0.5)) - 0.5)/(1.25**0.5 - 0.5)\n",
    "        l = (mu0*K0*g(x) + a*p0*K0*x)**(1/(l1-1))\n",
    "\n",
    "    # Evolution of p\n",
    "    h = 1 - l\n",
    "    if retirement == True: # If l = 1 (retired), x and l does not matter\n",
    "        p1 = p0*(rho + delta) + p0\n",
    "    elif retirement == False:\n",
    "        p1 = p0*(rho + delta - a*x*h) - g(x)*h*mu0 + p0\n",
    "\n",
    "    # Evolution of K and A\n",
    "    if retirement == True:\n",
    "        A1 = r*A0 - c + A0\n",
    "        K1 = -delta*K0 + K0\n",
    "    elif retirement == False:\n",
    "        A1 = r*A0 + g(x)*h*K0 - c + A0\n",
    "        K1 = (a*x*h - delta)*K0 + K0\n",
    "\n",
    "    return K1, A1, mu1, p1, c, l, x"
   ]
  },
  {
   "cell_type": "code",
   "execution_count": 137,
   "metadata": {},
   "outputs": [],
   "source": [
    "K_path = np.zeros(T+1)\n",
    "A_path = np.zeros(T+1)\n",
    "mu_path = np.zeros(T+1)\n",
    "p_path = np.zeros(T+1)\n",
    "c_path = np.zeros(T)\n",
    "l_path = np.zeros(T)\n",
    "x_path = np.zeros(T)"
   ]
  },
  {
   "cell_type": "code",
   "execution_count": 138,
   "metadata": {},
   "outputs": [],
   "source": [
    "# Initial conditions\n",
    "# Initial state\n",
    "K_path[0] = 1\n",
    "A_path[0] = 1\n",
    "\n",
    "# Initial costate\n",
    "mu_path[0] = 10\n",
    "p_path[0] = 1000"
   ]
  },
  {
   "cell_type": "code",
   "execution_count": 139,
   "metadata": {},
   "outputs": [],
   "source": [
    "# Iterate forward in time\n",
    "for t in range(T):\n",
    "    K0 = K_path[t]\n",
    "    A0 = A_path[t]\n",
    "    mu0 = mu_path[t]\n",
    "    p0 = p_path[t]\n",
    "\n",
    "    K1, A1, mu1, p1, c, l, x = simulate(K0, A0, mu0, p0)\n",
    "\n",
    "    K_path[t+1] = K1\n",
    "    A_path[t+1] = A1\n",
    "    mu_path[t+1] = mu1\n",
    "    p_path[t+1] = p1\n",
    "    c_path[t] = c\n",
    "    l_path[t] = l\n",
    "    x_path[t] = x"
   ]
  },
  {
   "cell_type": "code",
   "execution_count": 143,
   "metadata": {},
   "outputs": [],
   "source": [
    "# Evaluate terminal conditions\n",
    "# Terminal states\n",
    "AT = A_path[T-1]\n",
    "KT = K_path[T-1]\n",
    "muT = mu_path[T-1]\n",
    "pT = p_path[T-1]\n",
    "\n",
    "cT = c_path[T-1]\n",
    "bequest = AT - cT"
   ]
  },
  {
   "cell_type": "code",
   "execution_count": 141,
   "metadata": {},
   "outputs": [
    {
     "output_type": "execute_result",
     "data": {
      "text/plain": "inf"
     },
     "metadata": {},
     "execution_count": 141
    }
   ],
   "source": [
    "B_prime(bequest, A1)\n"
   ]
  },
  {
   "cell_type": "code",
   "execution_count": 142,
   "metadata": {},
   "outputs": [
    {
     "output_type": "execute_result",
     "data": {
      "text/plain": "0.030832703751876585"
     },
     "metadata": {},
     "execution_count": 142
    }
   ],
   "source": [
    "1/(bequest**0.5)"
   ]
  },
  {
   "cell_type": "code",
   "execution_count": null,
   "metadata": {},
   "outputs": [],
   "source": []
  }
 ],
 "metadata": {
  "language_info": {
   "codemirror_mode": {
    "name": "ipython",
    "version": 3
   },
   "file_extension": ".py",
   "mimetype": "text/x-python",
   "name": "python",
   "nbconvert_exporter": "python",
   "pygments_lexer": "ipython3",
   "version": "3.7.6-final"
  },
  "orig_nbformat": 2,
  "kernelspec": {
   "name": "python3",
   "display_name": "Python 3"
  }
 },
 "nbformat": 4,
 "nbformat_minor": 2
}